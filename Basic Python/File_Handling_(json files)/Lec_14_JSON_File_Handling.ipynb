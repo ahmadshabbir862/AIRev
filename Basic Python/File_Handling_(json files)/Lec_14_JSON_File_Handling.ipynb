{
 "cells": [
  {
   "cell_type": "markdown",
   "metadata": {},
   "source": [
    "# Exception Handling"
   ]
  },
  {
   "cell_type": "code",
   "execution_count": 1,
   "metadata": {},
   "outputs": [
    {
     "ename": "ZeroDivisionError",
     "evalue": "division by zero",
     "output_type": "error",
     "traceback": [
      "\u001b[1;31m---------------------------------------------------------------------------\u001b[0m",
      "\u001b[1;31mZeroDivisionError\u001b[0m                         Traceback (most recent call last)",
      "\u001b[1;32m<ipython-input-1-fad870a50e27>\u001b[0m in \u001b[0;36m<module>\u001b[1;34m\u001b[0m\n\u001b[1;32m----> 1\u001b[1;33m \u001b[0mprint\u001b[0m\u001b[1;33m(\u001b[0m\u001b[1;36m5\u001b[0m\u001b[1;33m/\u001b[0m\u001b[1;36m0\u001b[0m\u001b[1;33m)\u001b[0m\u001b[1;33m\u001b[0m\u001b[1;33m\u001b[0m\u001b[0m\n\u001b[0m",
      "\u001b[1;31mZeroDivisionError\u001b[0m: division by zero"
     ]
    }
   ],
   "source": [
    "print(5/0)"
   ]
  },
  {
   "cell_type": "markdown",
   "metadata": {},
   "source": [
    "# Handling ZeroDivisionError"
   ]
  },
  {
   "cell_type": "code",
   "execution_count": 2,
   "metadata": {},
   "outputs": [
    {
     "name": "stdout",
     "output_type": "stream",
     "text": [
      "you can't divide by zero\n"
     ]
    }
   ],
   "source": [
    "try:\n",
    "    print(5/0)\n",
    "except ZeroDivisionError:\n",
    "    print(\"you can't divide by zero\")"
   ]
  },
  {
   "cell_type": "code",
   "execution_count": 4,
   "metadata": {},
   "outputs": [
    {
     "name": "stdout",
     "output_type": "stream",
     "text": [
      "Give me two numbers I will divide them\n",
      "Enter q to quit\n",
      "\n",
      " First Number = 4\n",
      "\n",
      " Second Number = 2\n",
      "2.0\n",
      "\n",
      " First Number = 4\n",
      "\n",
      " Second Number = 0\n",
      "You cant divide by zero\n",
      "\n",
      " First Number = q\n"
     ]
    }
   ],
   "source": [
    "print(\"Give me two numbers I will divide them\")\n",
    "print(\"Enter q to quit\")\n",
    "\n",
    "while True:\n",
    "    first_number = input(\"\\n First Number = \")\n",
    "    if first_number == 'q':\n",
    "        break\n",
    "        \n",
    "    second_number = input(\"\\n Second Number = \")\n",
    "    if second_number == 'q':\n",
    "        break\n",
    "        \n",
    "    try:\n",
    "        answer = int(first_number) / int(second_number)\n",
    "    except ZeroDivisionError:\n",
    "        print(\"You cant divide by zero\")\n",
    "    else:\n",
    "        print(answer)\n",
    "    "
   ]
  },
  {
   "cell_type": "markdown",
   "metadata": {},
   "source": [
    "# Handling FileNotFound Exception"
   ]
  },
  {
   "cell_type": "code",
   "execution_count": 5,
   "metadata": {},
   "outputs": [
    {
     "ename": "FileNotFoundError",
     "evalue": "[Errno 2] No such file or directory: 'school.txt'",
     "output_type": "error",
     "traceback": [
      "\u001b[1;31m---------------------------------------------------------------------------\u001b[0m",
      "\u001b[1;31mFileNotFoundError\u001b[0m                         Traceback (most recent call last)",
      "\u001b[1;32m<ipython-input-5-0d5463a49031>\u001b[0m in \u001b[0;36m<module>\u001b[1;34m\u001b[0m\n\u001b[1;32m----> 1\u001b[1;33m \u001b[1;32mwith\u001b[0m \u001b[0mopen\u001b[0m\u001b[1;33m(\u001b[0m\u001b[1;34m\"school.txt\"\u001b[0m\u001b[1;33m)\u001b[0m \u001b[1;32mas\u001b[0m \u001b[0mf\u001b[0m\u001b[1;33m:\u001b[0m\u001b[1;33m\u001b[0m\u001b[1;33m\u001b[0m\u001b[0m\n\u001b[0m\u001b[0;32m      2\u001b[0m     \u001b[0mcontents\u001b[0m \u001b[1;33m=\u001b[0m \u001b[0mf\u001b[0m\u001b[1;33m.\u001b[0m\u001b[0mread\u001b[0m\u001b[1;33m(\u001b[0m\u001b[1;33m)\u001b[0m\u001b[1;33m\u001b[0m\u001b[1;33m\u001b[0m\u001b[0m\n",
      "\u001b[1;31mFileNotFoundError\u001b[0m: [Errno 2] No such file or directory: 'school.txt'"
     ]
    }
   ],
   "source": [
    "with open(\"school.txt\") as f:\n",
    "    contents = f.read()"
   ]
  },
  {
   "cell_type": "code",
   "execution_count": 7,
   "metadata": {},
   "outputs": [
    {
     "name": "stdout",
     "output_type": "stream",
     "text": [
      "Enter file that you want to searchhello.txt\n",
      "NAbiha Komal\n"
     ]
    }
   ],
   "source": [
    "try:\n",
    "    file_name = input(\"Enter file that you want to search\")\n",
    "    with open(file_name,\"r\") as f_obj:\n",
    "        contents = f_obj.read()\n",
    "        print(contents)\n",
    "except FileNotFoundError:\n",
    "    msg = \"Sorry, the file\" + file_name + \" does not exsist.\"\n",
    "    print(msg)"
   ]
  },
  {
   "cell_type": "markdown",
   "metadata": {},
   "source": [
    "# Using json.dump() and json.load()"
   ]
  },
  {
   "cell_type": "code",
   "execution_count": 8,
   "metadata": {},
   "outputs": [],
   "source": [
    "import json"
   ]
  },
  {
   "cell_type": "code",
   "execution_count": 9,
   "metadata": {},
   "outputs": [],
   "source": [
    "numbers = [2, 4, 6, 7, 8, 10, 14]\n",
    "\n",
    "with open(\"numbers.json\",\"w\") as f_obj:\n",
    "    json.dump(numbers, f_obj)"
   ]
  },
  {
   "cell_type": "code",
   "execution_count": 10,
   "metadata": {},
   "outputs": [
    {
     "name": "stdout",
     "output_type": "stream",
     "text": [
      "[2, 4, 6, 7, 8, 10, 14]\n"
     ]
    }
   ],
   "source": [
    "with open(\"numbers.json\") as f_obj:\n",
    "    number_list = json.load(f_obj)\n",
    "    \n",
    "print(number_list)"
   ]
  },
  {
   "cell_type": "markdown",
   "metadata": {},
   "source": [
    "# Saving and Reading User generated Data"
   ]
  },
  {
   "cell_type": "code",
   "execution_count": 12,
   "metadata": {},
   "outputs": [
    {
     "name": "stdout",
     "output_type": "stream",
     "text": [
      "What is your name..?Nabiha Komal\n",
      "We will remember you when you come back! Nabiha Komal\n"
     ]
    }
   ],
   "source": [
    "username = input(\"What is your name..?\")\n",
    "with open(\"username.json\", \"w\") as f_obj:\n",
    "    json.dump(username, f_obj)\n",
    "    print(\"We will remember you when you come back! \" + username )"
   ]
  },
  {
   "cell_type": "code",
   "execution_count": 13,
   "metadata": {},
   "outputs": [
    {
     "name": "stdout",
     "output_type": "stream",
     "text": [
      "Welcome Back! Nabiha Komal\n"
     ]
    }
   ],
   "source": [
    "with open(\"username.json\",\"r\") as f_obj:\n",
    "    username = json.load(f_obj)\n",
    "    print(\"Welcome Back! \" + username)"
   ]
  },
  {
   "cell_type": "code",
   "execution_count": 17,
   "metadata": {},
   "outputs": [
    {
     "name": "stdout",
     "output_type": "stream",
     "text": [
      "Welcome Back! Shahbaz ALi\n"
     ]
    }
   ],
   "source": [
    "try: \n",
    "    with open(\"username.json\",\"r\") as f_obj:\n",
    "        username = json.load(f_obj)\n",
    "    \n",
    "except FileNotFoundError:\n",
    "    username = input(\"What is your name..?\")\n",
    "    with open(\"username.json\", \"w\") as f_obj:\n",
    "        json.dump(username, f_obj)\n",
    "        print(\"We will remember you when you come back! \" + username )\n",
    "    \n",
    "else:\n",
    "    print(\"Welcome Back! \" + username)"
   ]
  },
  {
   "cell_type": "code",
   "execution_count": null,
   "metadata": {},
   "outputs": [],
   "source": []
  }
 ],
 "metadata": {
  "kernelspec": {
   "display_name": "Python 3",
   "language": "python",
   "name": "python3"
  },
  "language_info": {
   "codemirror_mode": {
    "name": "ipython",
    "version": 3
   },
   "file_extension": ".py",
   "mimetype": "text/x-python",
   "name": "python",
   "nbconvert_exporter": "python",
   "pygments_lexer": "ipython3",
   "version": "3.7.9"
  }
 },
 "nbformat": 4,
 "nbformat_minor": 2
}
