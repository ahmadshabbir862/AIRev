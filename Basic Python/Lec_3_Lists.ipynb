{
 "cells": [
  {
   "attachments": {},
   "cell_type": "markdown",
   "metadata": {},
   "source": [
    "# List\n",
    "+ A list is a data structure in python that is mutable or changeable, ordered sequence of elements\n",
    "+ Each element or value inside of a list is called an item"
   ]
  },
  {
   "cell_type": "code",
   "execution_count": 1,
   "metadata": {},
   "outputs": [
    {
     "name": "stdout",
     "output_type": "stream",
     "text": [
      "['Alishba', 'Ayesha', 'Saima', 'Anza']\n",
      "[1, 2, 3, 4, 5, 6]\n",
      "[1.9, 1.8, 2.9, 1.7]\n",
      "['fruits', 1, 2.8, True, 'Hello world']\n"
     ]
    }
   ],
   "source": [
    "friends = [\"Alishba\", \"Ayesha\",\"Saima\",\"Anza\"]\n",
    "numbers = [1, 2, 3, 4, 5, 6]\n",
    "list_float = [1.9, 1.8, 2.9, 1.7]\n",
    "mix = [\"fruits\", 1, 2.8, True, \"Hello world\"]\n",
    "\n",
    "print(friends)\n",
    "print(numbers)\n",
    "print(list_float)\n",
    "print(mix)"
   ]
  },
  {
   "cell_type": "code",
   "execution_count": 3,
   "metadata": {},
   "outputs": [
    {
     "name": "stdout",
     "output_type": "stream",
     "text": [
      "4\n",
      "['Alishba', 'Ayesha', 'Saima', 'Anza']\n"
     ]
    }
   ],
   "source": [
    "# Index of a list\n",
    "friends = [\"Alishba\", \"Ayesha\",\"Saima\",\"Anza\"]\n",
    "#index         0         1        2       3\n",
    "\n",
    "print(len(friends))\n",
    "print(friends)"
   ]
  },
  {
   "attachments": {},
   "cell_type": "markdown",
   "metadata": {},
   "source": [
    "# Common List Operations"
   ]
  },
  {
   "attachments": {},
   "cell_type": "markdown",
   "metadata": {},
   "source": [
    "* Access a value\n",
    "* Add new value to the end of list\n",
    "* Find the index of a value in list\n",
    "* Slicing the elements from list\n",
    "* Deleting & removing the elements from the list\n",
    "* Popping elements from the list"
   ]
  },
  {
   "attachments": {},
   "cell_type": "markdown",
   "metadata": {},
   "source": [
    "## Access a value in list"
   ]
  },
  {
   "cell_type": "code",
   "execution_count": 8,
   "metadata": {},
   "outputs": [
    {
     "name": "stdout",
     "output_type": "stream",
     "text": [
      "7\n",
      "7\n"
     ]
    },
    {
     "data": {
      "text/plain": [
       "'Saima'"
      ]
     },
     "execution_count": 8,
     "metadata": {},
     "output_type": "execute_result"
    }
   ],
   "source": [
    "numbers = [1, 3, 5, 7, 9, 12, 55, 64]\n",
    "# index    0  1  2  3   4  5   6   7   positive index\n",
    "# index -8  -7   -6 -5 -4  -3  -2 -1     negitive index\n",
    "\n",
    "print(numbers[3])\n",
    "print(numbers[-5])\n",
    "\n",
    "friends = [\"Alishba\", \"Ayesha\",\"Saima\",\"Anza\"]\n",
    "friends[-2]"
   ]
  },
  {
   "attachments": {},
   "cell_type": "markdown",
   "metadata": {},
   "source": [
    "## Add new value to the list"
   ]
  },
  {
   "cell_type": "code",
   "execution_count": 11,
   "metadata": {},
   "outputs": [
    {
     "name": "stdout",
     "output_type": "stream",
     "text": [
      "['Karachi', ' Lahore', 'Islamabad', 'Peshawar']\n"
     ]
    }
   ],
   "source": [
    "cities = [\"Karachi\", \" Lahore\", \"Islamabad\", \"Peshawar\"]\n",
    "print(cities)"
   ]
  },
  {
   "cell_type": "code",
   "execution_count": 10,
   "metadata": {},
   "outputs": [
    {
     "name": "stdout",
     "output_type": "stream",
     "text": [
      "['Karachi', ' Lahore', 'Islamabad', 'Peshawar', 'Multan']\n"
     ]
    }
   ],
   "source": [
    "cities.append(\"Multan\")\n",
    "print(cities)"
   ]
  },
  {
   "cell_type": "code",
   "execution_count": 13,
   "metadata": {},
   "outputs": [
    {
     "name": "stdout",
     "output_type": "stream",
     "text": [
      "['Karachi', 'Layyah', 'Layyah', ' Lahore', 'Islamabad', 'Peshawar']\n"
     ]
    }
   ],
   "source": [
    "cities.insert(2, \"Layyah\")\n",
    "print(cities)"
   ]
  },
  {
   "cell_type": "code",
   "execution_count": 14,
   "metadata": {},
   "outputs": [
    {
     "name": "stdout",
     "output_type": "stream",
     "text": [
      "['Karachi', 'Layyah', 'Layyah', ' Lahore', 'Islamabad', 'Peshawar', 'Bhakar', 'Karor', 'chowkazam']\n"
     ]
    }
   ],
   "source": [
    "cities.extend(['Bhakar','Karor','chowkazam'])\n",
    "print(cities)"
   ]
  },
  {
   "cell_type": "code",
   "execution_count": 15,
   "metadata": {},
   "outputs": [
    {
     "name": "stdout",
     "output_type": "stream",
     "text": [
      "['Karachi', 'Layyah', 'Layyah', ' Lahore', 'Islamabad', 'Peshawar', 'Bhakar', 'Karor', 'chowkazam']\n",
      "['Karachi', 'Layyah', 'Layyah', ' Lahore', 'Islamabad', 'Peshawar', 'Bhakar', 'Karor', 'chowkazam']\n"
     ]
    }
   ],
   "source": [
    "my_cities = cities.copy()  #copy by value\n",
    "print(cities)\n",
    "print(my_cities)"
   ]
  },
  {
   "cell_type": "code",
   "execution_count": 19,
   "metadata": {},
   "outputs": [
    {
     "name": "stdout",
     "output_type": "stream",
     "text": [
      "['Karachi', 'Layyah', 'Layyah', ' Lahore', 'Islamabad', 'Peshawar', 'Bhakar', 'Karor', 'chowkazam', 'Quetta', 'Sakhar', 'Quetta']\n",
      "['Karachi', 'Layyah', 'Layyah', ' Lahore', 'Islamabad', 'Peshawar', 'Bhakar', 'Karor', 'chowkazam']\n",
      "['Islamabad', 'Peshawar', 'Bhakar']\n"
     ]
    }
   ],
   "source": [
    "cities.append('Quetta')\n",
    "print(cities)\n",
    "print(my_cities)\n",
    "print(cities[4:7]) #index+1"
   ]
  },
  {
   "cell_type": "code",
   "execution_count": 17,
   "metadata": {},
   "outputs": [
    {
     "name": "stdout",
     "output_type": "stream",
     "text": [
      "['Karachi', 'Layyah', 'Layyah', ' Lahore', 'Islamabad', 'Peshawar', 'Bhakar', 'Karor', 'chowkazam', 'Quetta']\n",
      "['Karachi', 'Layyah', 'Layyah', ' Lahore', 'Islamabad', 'Peshawar', 'Bhakar', 'Karor', 'chowkazam', 'Quetta']\n"
     ]
    }
   ],
   "source": [
    "my_cities_2 = cities  # copy by reference\n",
    "\n",
    "print(cities)\n",
    "print(my_cities_2)"
   ]
  },
  {
   "cell_type": "code",
   "execution_count": 18,
   "metadata": {},
   "outputs": [
    {
     "name": "stdout",
     "output_type": "stream",
     "text": [
      "['Karachi', 'Layyah', 'Layyah', ' Lahore', 'Islamabad', 'Peshawar', 'Bhakar', 'Karor', 'chowkazam', 'Quetta', 'Sakhar']\n",
      "['Karachi', 'Layyah', 'Layyah', ' Lahore', 'Islamabad', 'Peshawar', 'Bhakar', 'Karor', 'chowkazam', 'Quetta', 'Sakhar']\n"
     ]
    }
   ],
   "source": [
    "cities.append('Sakhar')\n",
    "\n",
    "print(cities)\n",
    "print(my_cities_2)"
   ]
  },
  {
   "attachments": {},
   "cell_type": "markdown",
   "metadata": {},
   "source": [
    "## Removing an item from list"
   ]
  },
  {
   "cell_type": "code",
   "execution_count": 22,
   "metadata": {},
   "outputs": [
    {
     "name": "stdout",
     "output_type": "stream",
     "text": [
      "['Karachi', 'Layyah', 'Layyah', ' Lahore', 'Islamabad', 'Peshawar', 'Bhakar', 'Karor', 'chowkazam']\n"
     ]
    }
   ],
   "source": [
    "print(my_cities)"
   ]
  },
  {
   "cell_type": "code",
   "execution_count": 23,
   "metadata": {},
   "outputs": [
    {
     "name": "stdout",
     "output_type": "stream",
     "text": [
      "['Karachi', 'Layyah', ' Lahore', 'Islamabad', 'Peshawar', 'Bhakar', 'Karor', 'chowkazam']\n"
     ]
    }
   ],
   "source": [
    "del my_cities[2] # removing value by index\n",
    "print(my_cities)"
   ]
  },
  {
   "cell_type": "code",
   "execution_count": 24,
   "metadata": {},
   "outputs": [
    {
     "name": "stdout",
     "output_type": "stream",
     "text": [
      "['Karachi', 'Layyah', ' Lahore', 'Islamabad', 'Peshawar', 'Bhakar', 'Karor']\n"
     ]
    }
   ],
   "source": [
    "my_cities.remove('chowkazam') # removing by value\n",
    "print(my_cities)"
   ]
  },
  {
   "cell_type": "code",
   "execution_count": 25,
   "metadata": {},
   "outputs": [
    {
     "name": "stdout",
     "output_type": "stream",
     "text": [
      "['Karachi', 'Layyah', ' Lahore', 'Islamabad', 'Peshawar', 'Bhakar']\n"
     ]
    }
   ],
   "source": [
    "my_cities.pop() # pop value at the end of list\n",
    "print(my_cities)"
   ]
  },
  {
   "cell_type": "code",
   "execution_count": 26,
   "metadata": {},
   "outputs": [
    {
     "name": "stdout",
     "output_type": "stream",
     "text": [
      "['Karachi', 'Layyah', ' Lahore', 'Islamabad', 'Peshawar']\n",
      "Bhakar\n"
     ]
    }
   ],
   "source": [
    "name = my_cities.pop()  # returns the value\n",
    "print(my_cities)\n",
    "print(name)"
   ]
  },
  {
   "cell_type": "code",
   "execution_count": 27,
   "metadata": {},
   "outputs": [
    {
     "name": "stdout",
     "output_type": "stream",
     "text": [
      "[' Lahore', 'Islamabad', 'Karachi', 'Layyah', 'Peshawar']\n"
     ]
    }
   ],
   "source": [
    "my_cities.sort() # alphabetically arranges the values\n",
    "print(my_cities)"
   ]
  },
  {
   "cell_type": "code",
   "execution_count": 33,
   "metadata": {},
   "outputs": [
    {
     "name": "stdout",
     "output_type": "stream",
     "text": [
      "['Peshawar', 'Bhakar', 'Karor', 'chowkazam', 'Quetta', 'Sakhar', 'Quetta']\n"
     ]
    }
   ],
   "source": [
    "print(cities)"
   ]
  },
  {
   "cell_type": "code",
   "execution_count": 34,
   "metadata": {},
   "outputs": [
    {
     "name": "stdout",
     "output_type": "stream",
     "text": [
      "['Karor', 'chowkazam', 'Quetta', 'Sakhar', 'Quetta']\n"
     ]
    }
   ],
   "source": [
    "del cities[0:2]\n",
    "print(cities)"
   ]
  },
  {
   "cell_type": "code",
   "execution_count": 35,
   "metadata": {},
   "outputs": [
    {
     "name": "stdout",
     "output_type": "stream",
     "text": [
      "[]\n"
     ]
    }
   ],
   "source": [
    "cities.clear()\n",
    "print(cities)"
   ]
  },
  {
   "cell_type": "code",
   "execution_count": 43,
   "metadata": {},
   "outputs": [
    {
     "name": "stdout",
     "output_type": "stream",
     "text": [
      "['Karachi', ' Lahore', 'Islamabad', 'Peshawar']\n"
     ]
    }
   ],
   "source": [
    "cities = [\"Karachi\", \" Lahore\", \"Islamabad\", \"Peshawar\"]\n",
    "print(cities)"
   ]
  },
  {
   "cell_type": "code",
   "execution_count": 47,
   "metadata": {},
   "outputs": [
    {
     "name": "stdout",
     "output_type": "stream",
     "text": [
      "[' Lahore', 'Peshawar']\n",
      "<class 'list'>\n"
     ]
    }
   ],
   "source": [
    "name = ['Karachi', 'Islamabad']\n",
    "city = [x for x in cities if x not in name]\n",
    "print(city)\n",
    "print(type(city))"
   ]
  },
  {
   "cell_type": "code",
   "execution_count": 48,
   "metadata": {},
   "outputs": [
    {
     "name": "stdout",
     "output_type": "stream",
     "text": [
      "[' Lahore', 'Peshawar']\n"
     ]
    }
   ],
   "source": [
    "cities = city.copy()\n",
    "print(cities)\n"
   ]
  },
  {
   "attachments": {},
   "cell_type": "markdown",
   "metadata": {},
   "source": [
    "## Slicing the elements from list"
   ]
  },
  {
   "cell_type": "code",
   "execution_count": 49,
   "metadata": {},
   "outputs": [
    {
     "data": {
      "text/plain": [
       "[3, 6, 7, 8]"
      ]
     },
     "execution_count": 49,
     "metadata": {},
     "output_type": "execute_result"
    }
   ],
   "source": [
    "arr = [2, 3, 6, 7, 8, 90, 23, 41, 21]\n",
    "arr[1:5]"
   ]
  },
  {
   "cell_type": "code",
   "execution_count": null,
   "metadata": {},
   "outputs": [],
   "source": [
    "# syntax list_name[start: end+1]\n",
    "# start--> inclusive\n",
    "# end--> exclusive"
   ]
  },
  {
   "cell_type": "code",
   "execution_count": 50,
   "metadata": {},
   "outputs": [],
   "source": [
    "students = ['Shahbaz', 'Tanveer', 'Salman', 'Qais', 'Haseeb', 'Sajid']\n",
    "# positive index  0        1        2          3        4         5\n",
    "# negitive index  -6        -5      -4         -3       -2      -1"
   ]
  },
  {
   "cell_type": "code",
   "execution_count": 51,
   "metadata": {},
   "outputs": [
    {
     "name": "stdout",
     "output_type": "stream",
     "text": [
      "['Shahbaz', 'Tanveer', 'Salman']\n"
     ]
    }
   ],
   "source": [
    "print(students[0:3])"
   ]
  },
  {
   "cell_type": "code",
   "execution_count": 52,
   "metadata": {},
   "outputs": [
    {
     "name": "stdout",
     "output_type": "stream",
     "text": [
      "['Shahbaz', 'Tanveer', 'Salman']\n"
     ]
    }
   ],
   "source": [
    "print(students[-6:-3])"
   ]
  },
  {
   "cell_type": "code",
   "execution_count": 54,
   "metadata": {},
   "outputs": [
    {
     "name": "stdout",
     "output_type": "stream",
     "text": [
      "['Shahbaz', 'Tanveer', 'Salman', 'Qais', 'Haseeb', 'Sajid']\n"
     ]
    }
   ],
   "source": [
    "print(students[:])"
   ]
  },
  {
   "cell_type": "code",
   "execution_count": 55,
   "metadata": {},
   "outputs": [
    {
     "name": "stdout",
     "output_type": "stream",
     "text": [
      "['Salman', 'Qais', 'Haseeb', 'Sajid']\n"
     ]
    }
   ],
   "source": [
    "print(students[2:])"
   ]
  },
  {
   "cell_type": "code",
   "execution_count": 56,
   "metadata": {},
   "outputs": [
    {
     "name": "stdout",
     "output_type": "stream",
     "text": [
      "['Tanveer', 'Salman', 'Qais']\n"
     ]
    }
   ],
   "source": [
    "print(students[1:-2])"
   ]
  },
  {
   "cell_type": "code",
   "execution_count": 57,
   "metadata": {},
   "outputs": [
    {
     "name": "stdout",
     "output_type": "stream",
     "text": [
      "['Shahbaz', 'Tanveer', 'Salman']\n"
     ]
    }
   ],
   "source": [
    "print(students[-6:3])"
   ]
  },
  {
   "cell_type": "code",
   "execution_count": 4,
   "metadata": {},
   "outputs": [
    {
     "data": {
      "text/plain": [
       "[2, 6, 8, 23]"
      ]
     },
     "execution_count": 4,
     "metadata": {},
     "output_type": "execute_result"
    }
   ],
   "source": [
    "numbers = [2, 3, 6, 7, 8, 90, 23, 41, 21, 23, 12, 13, 15, 16, 17, 18, 19, 10]\n",
    "numbers[0:8:2] # take two steps"
   ]
  },
  {
   "cell_type": "code",
   "execution_count": 5,
   "metadata": {},
   "outputs": [
    {
     "data": {
      "text/plain": [
       "[2, 90, 12, 18]"
      ]
     },
     "execution_count": 5,
     "metadata": {},
     "output_type": "execute_result"
    }
   ],
   "source": [
    "numbers[::5]"
   ]
  },
  {
   "cell_type": "code",
   "execution_count": null,
   "metadata": {},
   "outputs": [],
   "source": [
    "# list_name[start:end:step]"
   ]
  },
  {
   "cell_type": "code",
   "execution_count": null,
   "metadata": {},
   "outputs": [],
   "source": [
    "prime_numbers = [2, 3, 5, 7]\n",
    "prime_numbers.reverse()\n",
    "print(prime_numbers)"
   ]
  }
 ],
 "metadata": {
  "kernelspec": {
   "display_name": "Python 3 (ipykernel)",
   "language": "python",
   "name": "python3"
  },
  "language_info": {
   "codemirror_mode": {
    "name": "ipython",
    "version": 3
   },
   "file_extension": ".py",
   "mimetype": "text/x-python",
   "name": "python",
   "nbconvert_exporter": "python",
   "pygments_lexer": "ipython3",
   "version": "3.10.6"
  }
 },
 "nbformat": 4,
 "nbformat_minor": 2
}
