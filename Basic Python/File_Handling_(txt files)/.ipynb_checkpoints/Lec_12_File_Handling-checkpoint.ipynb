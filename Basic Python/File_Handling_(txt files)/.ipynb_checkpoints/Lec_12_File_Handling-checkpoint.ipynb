{
 "cells": [
  {
   "cell_type": "markdown",
   "metadata": {},
   "source": [
    "\n",
    "# File Handling"
   ]
  },
  {
   "cell_type": "markdown",
   "metadata": {},
   "source": [
    "## Reading an entire file"
   ]
  },
  {
   "cell_type": "code",
   "execution_count": 18,
   "metadata": {},
   "outputs": [
    {
     "name": "stdout",
     "output_type": "stream",
     "text": [
      "3.141592653589793238462643383279502884197\n",
      "\n",
      "38462643383279502884197\n",
      "38462643383279502884197\n",
      "\n",
      "7623823763257\n",
      "76238293237862367\n"
     ]
    }
   ],
   "source": [
    "with open(\"pi_digits.txt\",\"r\") as file_object:\n",
    "    contents = file_object.read()\n",
    "    print(contents)"
   ]
  },
  {
   "cell_type": "code",
   "execution_count": 2,
   "metadata": {},
   "outputs": [
    {
     "name": "stdout",
     "output_type": "stream",
     "text": [
      "3.141592653589793238462643383279502884197\n",
      "\n",
      "38462643383279502884197\n",
      "38462643383279502884197\n",
      "\n",
      "7623823763257\n",
      "76238293237862367\n"
     ]
    }
   ],
   "source": [
    "with open(\"pi_digits.txt\") as file_object:\n",
    "    contents = file_object.read()\n",
    "    print(contents.rstrip())"
   ]
  },
  {
   "cell_type": "markdown",
   "metadata": {},
   "source": [
    "# file path"
   ]
  },
  {
   "cell_type": "code",
   "execution_count": 3,
   "metadata": {},
   "outputs": [
    {
     "name": "stdout",
     "output_type": "stream",
     "text": [
      "3.141592653589793238462643383279502884197\n",
      "\n",
      "38462643383279502884197\n",
      "38462643383279502884197\n",
      "\n",
      "7623823763257\n",
      "76238293237862367\n"
     ]
    }
   ],
   "source": [
    "# Relative File Path\n",
    "with open(\"New Folder\\pi_digits.txt\") as f_obj:\n",
    "    contents = f_obj.read()\n",
    "    print(contents)"
   ]
  },
  {
   "cell_type": "code",
   "execution_count": 4,
   "metadata": {},
   "outputs": [
    {
     "name": "stdout",
     "output_type": "stream",
     "text": [
      "3.141592653589793238462643383279502884197\n",
      "\n",
      "38462643383279502884197\n",
      "38462643383279502884197\n",
      "\n",
      "7623823763257\n",
      "76238293237862367\n"
     ]
    }
   ],
   "source": [
    "# Absolute File Path\n",
    "    \n",
    "with open(r\"C:\\Users\\baryal laptop\\OneDrive\\Desktop\\Python_Programs\\pi_digits.txt\") as f_obj:\n",
    "    contents = f_obj.read()\n",
    "    print(contents)"
   ]
  },
  {
   "cell_type": "markdown",
   "metadata": {},
   "source": [
    "## Reading Line by Line"
   ]
  },
  {
   "cell_type": "code",
   "execution_count": 5,
   "metadata": {},
   "outputs": [
    {
     "name": "stdout",
     "output_type": "stream",
     "text": [
      "3.141592653589793238462643383279502884197\n",
      "\n",
      "38462643383279502884197\n",
      "38462643383279502884197\n",
      "\n",
      "7623823763257\n",
      "76238293237862367\n"
     ]
    }
   ],
   "source": [
    "filename = 'pi_digits.txt'\n",
    "\n",
    "with open(filename) as f_obj:\n",
    "    for line in f_obj:\n",
    "        print(line.rstrip())"
   ]
  },
  {
   "cell_type": "markdown",
   "metadata": {},
   "source": [
    "## Making a list of lines from a file"
   ]
  },
  {
   "cell_type": "code",
   "execution_count": 6,
   "metadata": {},
   "outputs": [
    {
     "name": "stdout",
     "output_type": "stream",
     "text": [
      "3.141592653589793238462643383279502884197\n",
      "\n",
      "38462643383279502884197\n",
      "38462643383279502884197\n",
      "\n",
      "7623823763257\n",
      "76238293237862367\n"
     ]
    }
   ],
   "source": [
    "with open(filename) as f_obj:\n",
    "    lines = f_obj.readlines()\n",
    "    \n",
    "    \n",
    "for line in lines:\n",
    "    print(line.rstrip())"
   ]
  },
  {
   "cell_type": "code",
   "execution_count": 7,
   "metadata": {},
   "outputs": [
    {
     "name": "stdout",
     "output_type": "stream",
     "text": [
      "3.1415926535897932384626433832795028841973846264338327950288419738462643383279502884197762382376325776238293237862367\n"
     ]
    }
   ],
   "source": [
    "with open(filename) as f_obj:\n",
    "    lines = f_obj.readlines()\n",
    "    \n",
    "pi_string = \"\"    \n",
    "for line in lines:\n",
    "    pi_string += line.rstrip()\n",
    "    \n",
    "print(pi_string)"
   ]
  },
  {
   "cell_type": "code",
   "execution_count": 8,
   "metadata": {},
   "outputs": [
    {
     "name": "stdout",
     "output_type": "stream",
     "text": [
      "3.1415926535897932384626433832795028841973846264338327950288419738462643383279502884197762382376325776238293237862367\n",
      "117\n",
      "Enter your birthday, in the form mmddyy334\n",
      "It does not appear in pi_string\n"
     ]
    }
   ],
   "source": [
    "with open(\"pi_digits.txt\") as f_obj:\n",
    "    lines = f_obj.readlines()\n",
    "    \n",
    "pi_string = \"\"    \n",
    "for line in lines:\n",
    "    pi_string += line.rstrip()\n",
    "    \n",
    "print(pi_string)\n",
    "print(len(pi_string))\n",
    "\n",
    "birthday = input(\"Enter your birthday, in the form mmddyy\")\n",
    "if birthday in pi_string:\n",
    "    print(\"Your dob is present in pi_string\")\n",
    "else:\n",
    "    print(\"It does not appear in pi_string\")"
   ]
  },
  {
   "cell_type": "markdown",
   "metadata": {},
   "source": [
    "# Writing to a file"
   ]
  },
  {
   "cell_type": "code",
   "execution_count": 15,
   "metadata": {},
   "outputs": [],
   "source": [
    "with open(\"shopping_list.txt\",\"w\") as file_object:\n",
    "    file_object.write(\"Rice\\n\")\n",
    "    file_object.write(\"Honey\\n\")\n",
    "    file_object.write(\"Spices\")"
   ]
  },
  {
   "cell_type": "code",
   "execution_count": 16,
   "metadata": {},
   "outputs": [],
   "source": [
    "with open(\"shopping_list.txt\",\"w\") as file_object:\n",
    "    file_object.write(\"Water\\n\")"
   ]
  },
  {
   "cell_type": "markdown",
   "metadata": {},
   "source": [
    "### Appending in a file"
   ]
  },
  {
   "cell_type": "code",
   "execution_count": 17,
   "metadata": {},
   "outputs": [],
   "source": [
    "with open(\"shopping_list.txt\",\"a\") as f:\n",
    "    f.write(\"Cookies\\n\")\n",
    "    f.write(\"Chips\\n\")"
   ]
  },
  {
   "cell_type": "code",
   "execution_count": null,
   "metadata": {},
   "outputs": [],
   "source": [
    "# \"r\" read \n",
    "# \"w\" write\n",
    "# \"a\" append\n",
    "# \"r+\" read+write"
   ]
  },
  {
   "cell_type": "code",
   "execution_count": 19,
   "metadata": {},
   "outputs": [
    {
     "name": "stdout",
     "output_type": "stream",
     "text": [
      "Chips\n",
      "\n"
     ]
    }
   ],
   "source": [
    "with open(\"shopping_list.txt\",\"r+\") as f:\n",
    "    f.write(\"Cookies\\n\")\n",
    "    f.write(\"Chips\\n\")\n",
    "    content = f.read()\n",
    "    print(content)"
   ]
  },
  {
   "cell_type": "markdown",
   "metadata": {},
   "source": [
    "# Modules"
   ]
  },
  {
   "cell_type": "markdown",
   "metadata": {},
   "source": [
    "## to show python version"
   ]
  },
  {
   "cell_type": "code",
   "execution_count": 21,
   "metadata": {},
   "outputs": [
    {
     "name": "stdout",
     "output_type": "stream",
     "text": [
      "Python Version 3.7.9 (tags/v3.7.9:13c94747c7, Aug 17 2020, 18:58:18) [MSC v.1900 64 bit (AMD64)]\n",
      "Version Info sys.version_info(major=3, minor=7, micro=9, releaselevel='final', serial=0)\n"
     ]
    }
   ],
   "source": [
    "import sys\n",
    "print(\"Python Version\", sys.version)\n",
    "print(\"Version Info\", sys.version_info)"
   ]
  },
  {
   "cell_type": "markdown",
   "metadata": {},
   "source": [
    "## Date and Time"
   ]
  },
  {
   "cell_type": "code",
   "execution_count": 22,
   "metadata": {},
   "outputs": [
    {
     "name": "stdout",
     "output_type": "stream",
     "text": [
      "23-05-24 23:06:04\n"
     ]
    }
   ],
   "source": [
    "import datetime\n",
    "now = datetime.datetime.now()\n",
    "print(now.strftime(\"%y-%m-%d %H:%M:%S\"))"
   ]
  },
  {
   "cell_type": "markdown",
   "metadata": {},
   "source": [
    "# calender"
   ]
  },
  {
   "cell_type": "code",
   "execution_count": 24,
   "metadata": {},
   "outputs": [
    {
     "name": "stdout",
     "output_type": "stream",
     "text": [
      "Input the year: 2023\n",
      "Tnput the month: 5\n",
      "      May 2023\n",
      "Mo Tu We Th Fr Sa Su\n",
      " 1  2  3  4  5  6  7\n",
      " 8  9 10 11 12 13 14\n",
      "15 16 17 18 19 20 21\n",
      "22 23 24 25 26 27 28\n",
      "29 30 31\n",
      "\n"
     ]
    }
   ],
   "source": [
    "import calendar \n",
    "y  = int(input(\"Input the year: \"))\n",
    "m = int(input(\"Tnput the month: \"))\n",
    "print(calendar.month(y, m))"
   ]
  },
  {
   "cell_type": "code",
   "execution_count": null,
   "metadata": {},
   "outputs": [],
   "source": []
  }
 ],
 "metadata": {
  "kernelspec": {
   "display_name": "Python 3",
   "language": "python",
   "name": "python3"
  },
  "language_info": {
   "codemirror_mode": {
    "name": "ipython",
    "version": 3
   },
   "file_extension": ".py",
   "mimetype": "text/x-python",
   "name": "python",
   "nbconvert_exporter": "python",
   "pygments_lexer": "ipython3",
   "version": "3.7.9"
  }
 },
 "nbformat": 4,
 "nbformat_minor": 2
}
