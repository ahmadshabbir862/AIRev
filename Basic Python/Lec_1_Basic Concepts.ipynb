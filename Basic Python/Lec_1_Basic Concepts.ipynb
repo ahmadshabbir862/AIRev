{
 "cells": [
  {
   "cell_type": "markdown",
   "metadata": {},
   "source": [
    "# Python Part 1"
   ]
  },
  {
   "cell_type": "markdown",
   "metadata": {},
   "source": [
    "## Second Level"
   ]
  },
  {
   "cell_type": "markdown",
   "metadata": {},
   "source": [
    "Hello here I am doing python coding"
   ]
  },
  {
   "cell_type": "markdown",
   "metadata": {},
   "source": [
    "* first\n",
    "* Second"
   ]
  },
  {
   "cell_type": "markdown",
   "metadata": {},
   "source": [
    "1. First\n",
    "2. Second"
   ]
  },
  {
   "cell_type": "markdown",
   "metadata": {},
   "source": [
    "[www.google.com]"
   ]
  },
  {
   "cell_type": "markdown",
   "metadata": {},
   "source": [
    "# heading\n",
    "\n",
    "## h2\n",
    "\n",
    "### h3"
   ]
  },
  {
   "cell_type": "markdown",
   "metadata": {},
   "source": [
    "# Print Function"
   ]
  },
  {
   "cell_type": "code",
   "execution_count": 1,
   "metadata": {},
   "outputs": [
    {
     "name": "stdout",
     "output_type": "stream",
     "text": [
      "Hello World\n"
     ]
    }
   ],
   "source": [
    "print(\"Hello World\")"
   ]
  },
  {
   "cell_type": "code",
   "execution_count": 2,
   "metadata": {},
   "outputs": [
    {
     "name": "stdout",
     "output_type": "stream",
     "text": [
      "1000\n"
     ]
    }
   ],
   "source": [
    "print(1000)"
   ]
  },
  {
   "cell_type": "code",
   "execution_count": 3,
   "metadata": {},
   "outputs": [
    {
     "name": "stdout",
     "output_type": "stream",
     "text": [
      "12 134\n"
     ]
    }
   ],
   "source": [
    "print(12,134)"
   ]
  },
  {
   "cell_type": "code",
   "execution_count": 4,
   "metadata": {},
   "outputs": [
    {
     "name": "stdout",
     "output_type": "stream",
     "text": [
      "25\n"
     ]
    }
   ],
   "source": [
    "print(10+15)"
   ]
  },
  {
   "cell_type": "code",
   "execution_count": 3,
   "metadata": {},
   "outputs": [
    {
     "name": "stdout",
     "output_type": "stream",
     "text": [
      "hello   @  World   @  Pakistan\n"
     ]
    }
   ],
   "source": [
    "print(\"hello\", \"World\" , \"Pakistan\", sep='   @  ')"
   ]
  },
  {
   "cell_type": "code",
   "execution_count": 18,
   "metadata": {},
   "outputs": [
    {
     "name": "stdout",
     "output_type": "stream",
     "text": [
      "Hello World\n",
      "Hello World\t\tHello World"
     ]
    }
   ],
   "source": [
    "print(\"Hello World\", end='\\n')\n",
    "print(\"Hello World\", end='\\t\\t')\n",
    "print(\"Hello World\", end='')"
   ]
  },
  {
   "cell_type": "markdown",
   "metadata": {},
   "source": [
    "# Variables\n",
    "\n",
    "* A variable is something that stores a value that may change.\n",
    "* In simplest terms a variable is just a box that you can put stuff in."
   ]
  },
  {
   "cell_type": "code",
   "execution_count": 26,
   "metadata": {},
   "outputs": [
    {
     "name": "stdout",
     "output_type": "stream",
     "text": [
      "5 <class 'int'>\n",
      "5.9 <class 'float'>\n",
      "Hello World <class 'str'>\n",
      "True <class 'bool'>\n"
     ]
    }
   ],
   "source": [
    "# x is a variable name(identifier)\n",
    "# = assignment operator\n",
    "# 5 value(integer value)\n",
    "\n",
    "x = 5 #integer\n",
    "z = 5.9 # float\n",
    "y = 'Hello World' # String\n",
    "a = True # boolean\n",
    "\n",
    "\n",
    "print(x, type(x))\n",
    "print(z, type(z))\n",
    "print(y, type(y))\n",
    "print(a, type(a))"
   ]
  },
  {
   "cell_type": "markdown",
   "metadata": {},
   "source": [
    "# Math Operations\n",
    "* if a=20 and b=10\n",
    "* (+) Adds value on either side of operator (a + b = 30)\n",
    "* (-) Subtracts right hand operand from left hand operand (a-b=10)\n",
    "* (x) Multiplies values on either side of operator (a*b=200)\n",
    "* (/) Divide lefthand operand by right hand operand (a/b=2)"
   ]
  },
  {
   "cell_type": "code",
   "execution_count": 7,
   "metadata": {},
   "outputs": [
    {
     "name": "stdout",
     "output_type": "stream",
     "text": [
      "Value of c 30\n",
      "Addition 30\n",
      "Subtraction 10\n",
      "Multiplication 200\n",
      "Division 2\n"
     ]
    }
   ],
   "source": [
    "a = 20\n",
    "b = 10\n",
    "c= a+b\n",
    "print(\"Value of c\",c)\n",
    "print(\"Addition\",a+b)\n",
    "print(\"Subtraction\", a-b)\n",
    "print(\"Multiplication\",a*b)\n",
    "print(\"Division\",a/b)\n"
   ]
  },
  {
   "cell_type": "code",
   "execution_count": 10,
   "metadata": {},
   "outputs": [
    {
     "name": "stdout",
     "output_type": "stream",
     "text": [
      "16\n",
      "2\n"
     ]
    }
   ],
   "source": [
    "a = 2\n",
    "b = 4\n",
    "print(a ** b) # Exponentiation\n",
    "print(a % b) # Modulous"
   ]
  },
  {
   "cell_type": "code",
   "execution_count": 1,
   "metadata": {},
   "outputs": [
    {
     "name": "stdout",
     "output_type": "stream",
     "text": [
      "Nabiha Komal\n"
     ]
    }
   ],
   "source": [
    "# String Operations\n",
    "student_name = \"Nabiha \"\n",
    "father_name = \"Komal\"\n",
    "print(student_name + father_name )"
   ]
  },
  {
   "cell_type": "markdown",
   "metadata": {},
   "source": [
    "# Converting data type"
   ]
  },
  {
   "cell_type": "code",
   "execution_count": 22,
   "metadata": {},
   "outputs": [
    {
     "name": "stdout",
     "output_type": "stream",
     "text": [
      "I completed 5 courses\n"
     ]
    }
   ],
   "source": [
    "print(\"I completed \" + str(5) + \" courses\")"
   ]
  },
  {
   "cell_type": "code",
   "execution_count": 24,
   "metadata": {},
   "outputs": [
    {
     "name": "stdout",
     "output_type": "stream",
     "text": [
      "4\n"
     ]
    }
   ],
   "source": [
    "print(int('2') + 2)"
   ]
  },
  {
   "cell_type": "code",
   "execution_count": 25,
   "metadata": {},
   "outputs": [
    {
     "name": "stdout",
     "output_type": "stream",
     "text": [
      "4.0\n"
     ]
    }
   ],
   "source": [
    "print(float('2')+ 2)"
   ]
  },
  {
   "cell_type": "code",
   "execution_count": 27,
   "metadata": {},
   "outputs": [
    {
     "name": "stdout",
     "output_type": "stream",
     "text": [
      "True False True\n"
     ]
    }
   ],
   "source": [
    "print(bool(2), bool(0), bool(\"hello\")) # 1 = True, 0 = False"
   ]
  },
  {
   "cell_type": "markdown",
   "metadata": {},
   "source": [
    "# If Statement\n",
    "the if statement is how you perform sort of decision-making. It allows for conditional execution of a statement or group of statements based on the value of an expression."
   ]
  },
  {
   "cell_type": "code",
   "execution_count": 29,
   "metadata": {},
   "outputs": [
    {
     "name": "stdout",
     "output_type": "stream",
     "text": [
      "Hello Python\n"
     ]
    }
   ],
   "source": [
    "a = 300\n",
    "b = 200\n",
    "if a<b:\n",
    "    print(\"a is less than b\")\n",
    "    print(\"hello a\")        # indented code is part of if block\n",
    "# indent ended\n",
    "print(\"Hello Python\") \n",
    "    "
   ]
  },
  {
   "cell_type": "code",
   "execution_count": null,
   "metadata": {},
   "outputs": [],
   "source": []
  },
  {
   "cell_type": "markdown",
   "metadata": {},
   "source": [
    "# Comments\n",
    "* Comments are line of text in your code that python ignores\n",
    "* Comments are for human not machine"
   ]
  },
  {
   "cell_type": "code",
   "execution_count": 31,
   "metadata": {},
   "outputs": [],
   "source": [
    "# Single Line Comment\n",
    "\n",
    "\n",
    "\"\"\" Multiple\n",
    "Line \n",
    "Comment\n",
    "\"\"\""
   ]
  },
  {
   "cell_type": "markdown",
   "metadata": {},
   "source": [
    "# User Input\n",
    "* Input from key board \n",
    "* For this purpose python provides the function input() "
   ]
  },
  {
   "cell_type": "code",
   "execution_count": 7,
   "metadata": {},
   "outputs": [
    {
     "name": "stdout",
     "output_type": "stream",
     "text": [
      "Enter a number3\n"
     ]
    }
   ],
   "source": [
    "a = float(input(\"Enter a number\")) # type casting"
   ]
  },
  {
   "cell_type": "code",
   "execution_count": 8,
   "metadata": {},
   "outputs": [
    {
     "name": "stdout",
     "output_type": "stream",
     "text": [
      "3.0 <class 'float'>\n"
     ]
    }
   ],
   "source": [
    "print(a, type(a))"
   ]
  }
 ],
 "metadata": {
  "kernelspec": {
   "display_name": "Python 3 (ipykernel)",
   "language": "python",
   "name": "python3"
  },
  "language_info": {
   "codemirror_mode": {
    "name": "ipython",
    "version": 3
   },
   "file_extension": ".py",
   "mimetype": "text/x-python",
   "name": "python",
   "nbconvert_exporter": "python",
   "pygments_lexer": "ipython3",
   "version": "3.10.6"
  }
 },
 "nbformat": 4,
 "nbformat_minor": 2
}
