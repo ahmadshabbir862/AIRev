{
 "cells": [
  {
   "attachments": {},
   "cell_type": "markdown",
   "metadata": {},
   "source": [
    "# Calculator"
   ]
  },
  {
   "cell_type": "code",
   "execution_count": 4,
   "metadata": {},
   "outputs": [],
   "source": [
    "\n",
    "logo = \"\"\"\n",
    " _____________________\n",
    "|  _________________  |\n",
    "| |              0. | |\n",
    "| |_________________| |\n",
    "|  ___ ___ ___   ___  |\n",
    "| | 7 | 8 | 9 | | + | |\n",
    "| |___|___|___| |___| |\n",
    "| | 4 | 5 | 6 | | - | |\n",
    "| |___|___|___| |___| |\n",
    "| | 1 | 2 | 3 | | x | |\n",
    "| |___|___|___| |___| |\n",
    "| | . | 0 | = | | / | |\n",
    "| |___|___|___| |___| |\n",
    "|_____________________|\n",
    "\n",
    "\"\"\"\n",
    " \n"
   ]
  },
  {
   "cell_type": "code",
   "execution_count": 5,
   "metadata": {},
   "outputs": [],
   "source": [
    "#Funtions\n",
    "\n",
    "def add(n1, n2):\n",
    "    return n1+n2\n",
    "\n",
    "def subtract(n1, n2):\n",
    "    return n1-n2\n",
    "\n",
    "def multiply(n1, n2):\n",
    "    return n1*n2\n",
    "\n",
    "def divide(n1, n2):\n",
    "    return n1/n2\n",
    "\n",
    "\n",
    "#dictionary\n",
    "operations= {\n",
    "    #key: value\n",
    "    '+':add,\n",
    "    '-':subtract,\n",
    "    '*':multiply,\n",
    "    '/':divide\n",
    "}\n",
    "\n"
   ]
  },
  {
   "cell_type": "code",
   "execution_count": 6,
   "metadata": {},
   "outputs": [
    {
     "name": "stdout",
     "output_type": "stream",
     "text": [
      "\n",
      " _____________________\n",
      "|  _________________  |\n",
      "| |              0. | |\n",
      "| |_________________| |\n",
      "|  ___ ___ ___   ___  |\n",
      "| | 7 | 8 | 9 | | + | |\n",
      "| |___|___|___| |___| |\n",
      "| | 4 | 5 | 6 | | - | |\n",
      "| |___|___|___| |___| |\n",
      "| | 1 | 2 | 3 | | x | |\n",
      "| |___|___|___| |___| |\n",
      "| | . | 0 | = | | / | |\n",
      "| |___|___|___| |___| |\n",
      "|_____________________|\n",
      "\n",
      "\n"
     ]
    },
    {
     "name": "stdout",
     "output_type": "stream",
     "text": [
      "+\n",
      "-\n",
      "*\n",
      "/\n",
      "45.0 + 85.0 = 130.0\n",
      "q\n"
     ]
    }
   ],
   "source": [
    "def calculator():\n",
    "    print(logo)\n",
    "    choice = True\n",
    "    num1 = float(input(\"First Number: \"))\n",
    "    for key in operations:\n",
    "        print(key)\n",
    "        \n",
    "    while choice:\n",
    "        operation_symbol = input(\"Pick an Operation:  \")\n",
    "        num2 = float(input(\"Second Number: \"))\n",
    "        ans = operations[operation_symbol](num1, num2)\n",
    "                         # add (num1, num2)\n",
    "        \n",
    "        print(f\"{num1} {operation_symbol} {num2} = {ans}\")\n",
    "        cont = input(f\"type 'y' to continue calculating with {ans}, or type 'q' to exit \").lower()\n",
    "        print(cont)\n",
    "        \n",
    "        if cont=='q':\n",
    "            choice = False\n",
    "        else:\n",
    "            num1 = ans\n",
    "            calculator()\n",
    "            \n",
    "            \n",
    "        \n",
    "calculator()  "
   ]
  },
  {
   "cell_type": "code",
   "execution_count": null,
   "metadata": {},
   "outputs": [],
   "source": []
  }
 ],
 "metadata": {
  "kernelspec": {
   "display_name": "Python 3 (ipykernel)",
   "language": "python",
   "name": "python3"
  },
  "language_info": {
   "codemirror_mode": {
    "name": "ipython",
    "version": 3
   },
   "file_extension": ".py",
   "mimetype": "text/x-python",
   "name": "python",
   "nbconvert_exporter": "python",
   "pygments_lexer": "ipython3",
   "version": "3.10.6"
  }
 },
 "nbformat": 4,
 "nbformat_minor": 2
}
