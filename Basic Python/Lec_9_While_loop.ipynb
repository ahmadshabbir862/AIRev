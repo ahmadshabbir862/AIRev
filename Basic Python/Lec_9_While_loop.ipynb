{
 "cells": [
  {
   "cell_type": "markdown",
   "metadata": {},
   "source": [
    "# While Loop "
   ]
  },
  {
   "cell_type": "code",
   "execution_count": 1,
   "metadata": {},
   "outputs": [
    {
     "name": "stdout",
     "output_type": "stream",
     "text": [
      "Enter a city, or q to quit: Quetta\n",
      "Its one of the cleanest cities\n",
      "Enter a city, or q to quit: Lahore\n",
      "Its one of the cleanest cities\n",
      "Enter a city, or q to quit: q\n"
     ]
    }
   ],
   "source": [
    "cleanest_cities = [\"Lahore\", \"Quetta\", \"Bahawalpur\", \"Islamabad\"]\n",
    "\n",
    "user_input = \"\"\n",
    "while user_input != \"q\":\n",
    "    user_input = input(\"Enter a city, or q to quit: \")\n",
    "    if user_input != \"q\":\n",
    "        for a_clean_city in cleanest_cities:\n",
    "            if user_input == a_clean_city:\n",
    "                print(\"Its one of the cleanest cities\")\n",
    "                break"
   ]
  },
  {
   "cell_type": "markdown",
   "metadata": {},
   "source": [
    "# While Loop using functions"
   ]
  },
  {
   "cell_type": "code",
   "execution_count": 5,
   "metadata": {},
   "outputs": [
    {
     "name": "stdout",
     "output_type": "stream",
     "text": [
      "\n",
      "Please tell me your name: \n",
      "enter 'q' at any time to quit\n",
      "First Name : nabiha\n",
      "Last Name : komal\n",
      "\n",
      " Hello Nabiha Komal\n",
      "\n",
      "Please tell me your name: \n",
      "enter 'q' at any time to quit\n",
      "First Name : ahmad\n",
      "Last Name : ali\n",
      "\n",
      " Hello Ahmad Ali\n",
      "\n",
      "Please tell me your name: \n",
      "enter 'q' at any time to quit\n",
      "First Name : q\n"
     ]
    }
   ],
   "source": [
    "def get_formatted_name(f_name,last_name):\n",
    "    \"\"\"Return a Full Name\"\"\"\n",
    "    full_name = f_name + \" \" + last_name\n",
    "    return full_name.title()\n",
    "\n",
    "\n",
    "\n",
    "while True:\n",
    "    print(\"\\nPlease tell me your name: \")\n",
    "    print(\"enter 'q' at any time to quit\")\n",
    "    \n",
    "    f_name = input(\"First Name : \")\n",
    "    if f_name == \"q\":\n",
    "        break\n",
    "        \n",
    "    l_name = input(\"Last Name : \")\n",
    "    if l_name == \"q\":\n",
    "        break\n",
    "    \n",
    "    \n",
    "    formatted_name = get_formatted_name(f_name, l_name)\n",
    "    print(\"\\n Hello \" + formatted_name)"
   ]
  },
  {
   "cell_type": "code",
   "execution_count": null,
   "metadata": {},
   "outputs": [],
   "source": []
  }
 ],
 "metadata": {
  "kernelspec": {
   "display_name": "Python 3",
   "language": "python",
   "name": "python3"
  },
  "language_info": {
   "codemirror_mode": {
    "name": "ipython",
    "version": 3
   },
   "file_extension": ".py",
   "mimetype": "text/x-python",
   "name": "python",
   "nbconvert_exporter": "python",
   "pygments_lexer": "ipython3",
   "version": "3.7.9"
  }
 },
 "nbformat": 4,
 "nbformat_minor": 2
}
