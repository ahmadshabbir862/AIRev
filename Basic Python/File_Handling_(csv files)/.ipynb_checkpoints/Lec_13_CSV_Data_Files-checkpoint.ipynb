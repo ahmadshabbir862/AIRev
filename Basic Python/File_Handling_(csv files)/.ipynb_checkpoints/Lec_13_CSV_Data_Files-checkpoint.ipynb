{
 "cells": [
  {
   "cell_type": "markdown",
   "metadata": {},
   "source": [
    "# CSV Reader Writer"
   ]
  },
  {
   "cell_type": "code",
   "execution_count": 9,
   "metadata": {},
   "outputs": [],
   "source": [
    "import csv"
   ]
  },
  {
   "cell_type": "code",
   "execution_count": 2,
   "metadata": {},
   "outputs": [
    {
     "name": "stdout",
     "output_type": "stream",
     "text": [
      "['Team', 'Score', 'Overs', 'RR', 'Inns', 'Opposition', 'Ground', 'Match Date']\n",
      "['United', '238/3', '20', '11.9', '1', 'v Qalandars', 'Karachi', '9-Mar-19']\n",
      "['Zalmi', '214/5', '20', '10.7', '1', 'v United', 'Karachi', '15-Mar-19']\n",
      "['Qalandars', '209/5', '20', '10.45', '1', 'v Gladiators', 'Lahore', '3-Mar-20']\n",
      "['Qalandars', '204/4', '20', '10.2', '2', 'v Sultans', 'Sharjah', '22-Feb-19']\n",
      "['Gladiators', '203/8', '20', '10.15', '2', 'v Qalandars', 'Dubai (DSC)', '16-Feb-16']\n",
      "['Zalmi', '203/7', '20', '10.15', '1', 'v Kings', 'Karachi', '11-Mar-19']\n",
      "['Gladiators', '202/5', '18.5', '10.72', '2', 'v Qalandars', 'Sharjah', '18-Feb-17']\n",
      "['Qalandars', '201/2', '20', '10.05', '1', 'v Gladiators', 'Dubai (DSC)', '16-Feb-16']\n",
      "['Kings', '201/4', '20', '10.05', '1', 'v Zalmi', 'Karachi', '21-Feb-20']\n",
      "['Qalandars', '200/3', '20', '10', '1', 'v Gladiators', 'Sharjah', '18-Feb-17']\n",
      "['Gladiators', '200/7', '20', '10', '1', 'v Zalmi', 'Sharjah', '28-Feb-17']\n",
      "['Sultans', '200/6', '20', '10', '1', 'v Qalandars', 'Sharjah', '22-Feb-19']\n",
      "['Zalmi', '199/9', '20', '9.95', '2', 'v Gladiators', 'Sharjah', '28-Feb-17']\n",
      "['Sultans', '199/5', '20', '9.95', '1', 'v Gladiators', 'Multan', '29-Feb-20']\n",
      "['United', '198/3', '20', '9.9', '1', 'v Qalandars', 'Lahore', '4-Mar-20']\n",
      "['United', '195/5', '20', '9.75', '1', 'v Zalmi', 'Rawalpindi', '7-Mar-20']\n",
      "['Qalandars', '194/3', '20', '9.7', '1', 'v Gladiators', 'Dubai (DSC)', '8-Feb-16']\n",
      "['Qalandars', '191/1', '18.5', '10.14', '2', 'v Sultans', 'Lahore', '15-Mar-20']\n",
      "['Zalmi', '191/7', '20', '9.55', '2', 'v Kings', 'Karachi', '21-Feb-20']\n",
      "['Qalandars', '190/2', '19.1', '9.91', '2', 'v Kings', 'Lahore', '8-Mar-20']\n",
      "['Gladiators', '190/5', '19.4', '9.66', '2', 'v United', 'Rawalpindi', '27-Feb-20']\n",
      "['Zalmi', '190/9', '20', '9.5', '1', 'v United', 'Dubai (DSC)', '9-Feb-17']\n",
      "['Kings', '190/5', '20', '9.5', '1', 'v Gladiators', 'Karachi', '10-Mar-19']\n",
      "['Qalandars', '189/5', '19.5', '9.52', '2', 'v Zalmi', 'Lahore', '10-Mar-20']\n"
     ]
    }
   ],
   "source": [
    "with open(\"Highest totals in PSL.csv\",\"r\") as csv_file:\n",
    "    csv_reader = csv.reader(csv_file)\n",
    "    \n",
    "    for line in csv_reader:\n",
    "        print(line)"
   ]
  },
  {
   "cell_type": "code",
   "execution_count": 8,
   "metadata": {},
   "outputs": [
    {
     "name": "stdout",
     "output_type": "stream",
     "text": [
      "['Team', 'Score', 'Overs', 'RR']\n",
      "['United', '238/3', '20', '11.9']\n",
      "['Zalmi', '214/5', '20', '10.7']\n",
      "['Qalandars', '209/5', '20', '10.45']\n",
      "['Qalandars', '204/4', '20', '10.2']\n",
      "['Gladiators', '203/8', '20', '10.15']\n",
      "['Zalmi', '203/7', '20', '10.15']\n",
      "['Gladiators', '202/5', '18.5', '10.72']\n",
      "['Qalandars', '201/2', '20', '10.05']\n",
      "['Kings', '201/4', '20', '10.05']\n",
      "['Qalandars', '200/3', '20', '10']\n",
      "['Gladiators', '200/7', '20', '10']\n",
      "['Sultans', '200/6', '20', '10']\n",
      "['Zalmi', '199/9', '20', '9.95']\n",
      "['Sultans', '199/5', '20', '9.95']\n",
      "['United', '198/3', '20', '9.9']\n",
      "['United', '195/5', '20', '9.75']\n",
      "['Qalandars', '194/3', '20', '9.7']\n",
      "['Qalandars', '191/1', '18.5', '10.14']\n",
      "['Zalmi', '191/7', '20', '9.55']\n",
      "['Qalandars', '190/2', '19.1', '9.91']\n",
      "['Gladiators', '190/5', '19.4', '9.66']\n",
      "['Zalmi', '190/9', '20', '9.5']\n",
      "['Kings', '190/5', '20', '9.5']\n",
      "['Qalandars', '189/5', '19.5', '9.52']\n"
     ]
    }
   ],
   "source": [
    "with open(\"Highest totals in PSL.csv\",\"r\") as csv_file:\n",
    "    csv_reader = csv.reader(csv_file)\n",
    "    \n",
    "    # next(csv_reader)\n",
    "    \n",
    "    for line in csv_reader:\n",
    "        print(line[0:4])"
   ]
  },
  {
   "cell_type": "code",
   "execution_count": 11,
   "metadata": {},
   "outputs": [],
   "source": [
    "with open(\"Highest totals in PSL.csv\",\"r\") as csv_file:\n",
    "    csv_reader = csv.reader(csv_file)\n",
    "    \n",
    "    with open(\"new_psl_file.csv\",\"w\") as new_file:\n",
    "        csv_writer = csv.writer(new_file, delimiter=\"\\t\")\n",
    "        \n",
    "        for line in csv_reader:\n",
    "            csv_writer.writerow(line)\n",
    "        "
   ]
  },
  {
   "cell_type": "code",
   "execution_count": 13,
   "metadata": {},
   "outputs": [],
   "source": [
    "with open(\"emloyees.csv\",\"w\") as new_file:\n",
    "        csv_writer = csv.writer(new_file, delimiter=\",\")\n",
    "        \n",
    "        csv_writer.writerow([\"f_name\",\"l_name\",\"email\"])\n",
    "        \n",
    "        csv_writer.writerow([\"Nabiha\",\"Komal\",\"nk@gmail.com\"])\n",
    "        csv_writer.writerow([\"Asad\",\"Khan\",\"asad@gmail.com\"])\n",
    "        csv_writer.writerow([\"shahbaz\",\"ALi\",\"ALi@gmail.com\"])"
   ]
  },
  {
   "cell_type": "code",
   "execution_count": null,
   "metadata": {},
   "outputs": [],
   "source": []
  }
 ],
 "metadata": {
  "kernelspec": {
   "display_name": "Python 3",
   "language": "python",
   "name": "python3"
  },
  "language_info": {
   "codemirror_mode": {
    "name": "ipython",
    "version": 3
   },
   "file_extension": ".py",
   "mimetype": "text/x-python",
   "name": "python",
   "nbconvert_exporter": "python",
   "pygments_lexer": "ipython3",
   "version": "3.7.9"
  }
 },
 "nbformat": 4,
 "nbformat_minor": 2
}
