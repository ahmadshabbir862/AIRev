{
 "cells": [
  {
   "cell_type": "markdown",
   "metadata": {},
   "source": [
    "# Concatenating Text Strings"
   ]
  },
  {
   "cell_type": "code",
   "execution_count": 9,
   "metadata": {},
   "outputs": [
    {
     "name": "stdout",
     "output_type": "stream",
     "text": [
      "Hello worldPakistan\n",
      "Helloworld\n"
     ]
    }
   ],
   "source": [
    "\n",
    "name = 'Hello'\n",
    "second = 'world'\n",
    "full_name = name + \" \" + second + \"Pakistan\"\n",
    "print(full_name)\n",
    "\n",
    "print(name + second)\n",
    "\n"
   ]
  },
  {
   "cell_type": "code",
   "execution_count": 11,
   "metadata": {},
   "outputs": [
    {
     "name": "stdout",
     "output_type": "stream",
     "text": [
      "Hello2\n"
     ]
    }
   ],
   "source": [
    "print(name + str(2))"
   ]
  },
  {
   "cell_type": "code",
   "execution_count": 13,
   "metadata": {},
   "outputs": [
    {
     "name": "stdout",
     "output_type": "stream",
     "text": [
      "Pakistan Zindabad\n"
     ]
    }
   ],
   "source": [
    "print(\"Pakistan\" + \" \" + \"Zindabad\")"
   ]
  },
  {
   "cell_type": "code",
   "execution_count": 17,
   "metadata": {},
   "outputs": [
    {
     "name": "stdout",
     "output_type": "stream",
     "text": [
      "You are a citizen of lahore city\n",
      "Hello\n",
      "World\n"
     ]
    }
   ],
   "source": [
    "city = \"Lahore\"\n",
    "if city == \"Lahore\":\n",
    "    print(\"You are a citizen of lahore city\")\n",
    "    print(\"Hello\")\n",
    "    print(\"World\")"
   ]
  },
  {
   "cell_type": "code",
   "execution_count": 18,
   "metadata": {},
   "outputs": [
    {
     "name": "stdout",
     "output_type": "stream",
     "text": [
      "correct\n"
     ]
    }
   ],
   "source": [
    "if 2 + 2 == 4:\n",
    "    print(\"correct\")"
   ]
  },
  {
   "cell_type": "markdown",
   "metadata": {},
   "source": [
    "# Comparison Operators"
   ]
  },
  {
   "cell_type": "code",
   "execution_count": 20,
   "metadata": {},
   "outputs": [
    {
     "name": "stdout",
     "output_type": "stream",
     "text": [
      "True\n"
     ]
    }
   ],
   "source": [
    "# == equal to\n",
    "full_name = \"Nabiha\" + \"Komal\"\n",
    "if full_name == \"NabihaKomal\":\n",
    "    print(\"True\")\n"
   ]
  },
  {
   "cell_type": "code",
   "execution_count": 4,
   "metadata": {},
   "outputs": [
    {
     "name": "stdout",
     "output_type": "stream",
     "text": [
      "Cheap Price\n"
     ]
    }
   ],
   "source": [
    "price = 100\n",
    "\n",
    "if price == 30+70:\n",
    "    print(\"Cheap Price\")\n",
    "    \n",
    "    "
   ]
  },
  {
   "cell_type": "code",
   "execution_count": 2,
   "metadata": {},
   "outputs": [],
   "source": [
    "# != not equal to\n"
   ]
  },
  {
   "cell_type": "code",
   "execution_count": 6,
   "metadata": {},
   "outputs": [
    {
     "name": "stdout",
     "output_type": "stream",
     "text": [
      "Enter price of product :80\n",
      "<class 'int'>\n"
     ]
    }
   ],
   "source": [
    "price = int(input(\"Enter price of product :\"))\n",
    "\n",
    "print(type(price))\n",
    "\n",
    "if price != 80: # True\n",
    "    print(\"Not Equal you cant buy\")"
   ]
  },
  {
   "cell_type": "code",
   "execution_count": 15,
   "metadata": {},
   "outputs": [
    {
     "name": "stdout",
     "output_type": "stream",
     "text": [
      "Enter price of product :900\n"
     ]
    }
   ],
   "source": [
    "# > is greater than\n",
    "# < is less than\n",
    "# >= is greater than or equal to\n",
    "# <= is less than or equal to\n",
    "\n",
    "price = int(input(\"Enter price of product :\"))\n",
    "\n",
    "\n",
    "# if price > 80: # True\n",
    "#     print(\"buy\")\n",
    "    \n",
    "# if price < 80: # True\n",
    "#     print(\"buy\")\n",
    "    \n",
    "# if price >= 80: # True\n",
    "#     print(\"buy\")\n",
    "\n",
    "if price <= 80: # True\n",
    "    print(\"buy\")"
   ]
  },
  {
   "cell_type": "markdown",
   "metadata": {},
   "source": [
    "# else and elif statements"
   ]
  },
  {
   "cell_type": "markdown",
   "metadata": {},
   "source": [
    "### if-else"
   ]
  },
  {
   "cell_type": "code",
   "execution_count": 18,
   "metadata": {},
   "outputs": [
    {
     "name": "stdout",
     "output_type": "stream",
     "text": [
      "you are not a pak citizen\n"
     ]
    }
   ],
   "source": [
    "residence = \"Uk\"\n",
    "if residence == \"pakistan\":\n",
    "    print(\"You are a Pak citizen\")\n",
    "else:\n",
    "    print(\"you are not a pak citizen\")"
   ]
  },
  {
   "cell_type": "markdown",
   "metadata": {},
   "source": [
    "### elif"
   ]
  },
  {
   "cell_type": "code",
   "execution_count": 21,
   "metadata": {},
   "outputs": [
    {
     "name": "stdout",
     "output_type": "stream",
     "text": [
      "Enter your percentage: 40\n",
      "Fail\n"
     ]
    }
   ],
   "source": [
    "marks = int(input(\"Enter your percentage: \"))\n",
    "\n",
    "if marks >= 80:\n",
    "    print(\"Grade A\")\n",
    "elif marks >= 70:\n",
    "    print(\"Grade B\")\n",
    "elif marks >= 60:\n",
    "    print(\"Grade C\")\n",
    "elif marks >= 50:\n",
    "    print(\"Grade D\")\n",
    "else:\n",
    "    print(\"Fail\")"
   ]
  },
  {
   "cell_type": "code",
   "execution_count": 28,
   "metadata": {},
   "outputs": [
    {
     "name": "stdout",
     "output_type": "stream",
     "text": [
      "Enter your name: 10\n",
      "10.0 <class 'float'>\n",
      "15.0\n"
     ]
    }
   ],
   "source": [
    "name = float(input(\"Enter your name: \")) # type casting\n",
    "print(name, type(name))\n",
    "print(name + 5)"
   ]
  },
  {
   "cell_type": "markdown",
   "metadata": {},
   "source": [
    "# Testing set of conditions"
   ]
  },
  {
   "cell_type": "markdown",
   "metadata": {},
   "source": [
    "* and\n",
    "* or"
   ]
  },
  {
   "cell_type": "code",
   "execution_count": null,
   "metadata": {},
   "outputs": [],
   "source": [
    "age = int(input(\"Enter your age: \"))\n",
    "gpa = float(input(\"Enter your gpa: \"))\n",
    "\n",
    "if age >= 21 and gpa >= 3.0: # 1st(False) and 2nd(true) --> False\n",
    "    print(\"you are hired\")\n",
    "else:\n",
    "    print(\"yoou are not hired\")"
   ]
  },
  {
   "cell_type": "markdown",
   "metadata": {},
   "source": [
    "## and Condition"
   ]
  },
  {
   "cell_type": "code",
   "execution_count": null,
   "metadata": {},
   "outputs": [],
   "source": [
    "# and condition\n",
    "# 1st(True) and 2nd(true) --> True\n",
    "# 1st(True) and 2nd(false) --> false\n",
    "# 1st(Flase) and 2nd(true) --> false\n",
    "# 1st(false) and 2nd(false) --> false\n",
    "\n",
    "\n",
    "age = int(input(\"Enter your age: \"))\n",
    "gpa = float(input(\"Enter your gpa: \"))\n",
    "\n",
    "if age >= 21 and gpa >= 3.0: # 1st(True) and 2nd(true) --> True\n",
    "    print(\"you are hired\")\n",
    "else:\n",
    "    print(\"you are not hired\")"
   ]
  },
  {
   "cell_type": "markdown",
   "metadata": {},
   "source": [
    "## or Condition"
   ]
  },
  {
   "cell_type": "code",
   "execution_count": null,
   "metadata": {},
   "outputs": [],
   "source": [
    "# or condition\n",
    "age = int(input(\"Enter your age: \"))\n",
    "gpa = float(input(\"Enter your gpa: \"))\n",
    "\n",
    "# 1st(True) and 2nd(true) --> True\n",
    "# 1st(True) and 2nd(false) --> True\n",
    "# 1st(Flase) and 2nd(true) --> True\n",
    "# 1st(false) and 2nd(false) --> false\n",
    "\n",
    "if age >= 21 or gpa >= 3.0: \n",
    "    print(\"you are hired\")\n",
    "else:\n",
    "    print(\"you are not hired\")"
   ]
  },
  {
   "cell_type": "markdown",
   "metadata": {},
   "source": [
    "## Or + and"
   ]
  },
  {
   "cell_type": "code",
   "execution_count": null,
   "metadata": {},
   "outputs": [],
   "source": [
    "age = int(input(\"Enter your age: \"))\n",
    "gpa = float(input(\"Enter your gpa: \"))\n",
    "\n",
    "        # true                #True\n",
    "if age > 65 or (age < 21 and gpa >= 3.0): \n",
    "    print(\"you are hired\")\n",
    "else:\n",
    "    print(\"you are not hired\")"
   ]
  },
  {
   "cell_type": "markdown",
   "metadata": {},
   "source": [
    "# If statement Nested"
   ]
  },
  {
   "cell_type": "code",
   "execution_count": null,
   "metadata": {},
   "outputs": [],
   "source": [
    "res = input(\"Enter your country: \")\n",
    "city = input(\"Enter your city: \")\n",
    "\n",
    "if res == \"pakistan\":\n",
    "    if city == \"layyah\":\n",
    "        print(\"you are a citizen of \" + res + \" and live in \" + city)\n",
    "    else:\n",
    "        print(\"You are not a citizen of\" + res)\n",
    "else: \n",
    "    \" Write another country\""
   ]
  },
  {
   "cell_type": "markdown",
   "metadata": {},
   "source": [
    "# Comments"
   ]
  },
  {
   "cell_type": "code",
   "execution_count": null,
   "metadata": {},
   "outputs": [],
   "source": [
    "# Single line comments\n",
    "# Select Ctrl + /\n",
    "\n",
    "\"\"\"\n",
    "Multiple \n",
    "line \n",
    "comments\n",
    "\"\"\""
   ]
  }
 ],
 "metadata": {
  "kernelspec": {
   "display_name": "Python 3 (ipykernel)",
   "language": "python",
   "name": "python3"
  },
  "language_info": {
   "codemirror_mode": {
    "name": "ipython",
    "version": 3
   },
   "file_extension": ".py",
   "mimetype": "text/x-python",
   "name": "python",
   "nbconvert_exporter": "python",
   "pygments_lexer": "ipython3",
   "version": "3.10.6"
  }
 },
 "nbformat": 4,
 "nbformat_minor": 2
}
