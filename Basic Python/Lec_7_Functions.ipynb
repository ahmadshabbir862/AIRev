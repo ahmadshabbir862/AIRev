{
 "cells": [
  {
   "cell_type": "markdown",
   "metadata": {},
   "source": [
    "# Function\n",
    "\n",
    "functions, which are named blocks of code\n",
    "that are designed to do one specific job.\n",
    "When you want to perform a particular task\n",
    "that you’ve defined in a function, you call the name\n",
    "of the function responsible for it."
   ]
  },
  {
   "cell_type": "markdown",
   "metadata": {},
   "source": [
    "## Defining a function"
   ]
  },
  {
   "cell_type": "code",
   "execution_count": 8,
   "metadata": {},
   "outputs": [
    {
     "name": "stdout",
     "output_type": "stream",
     "text": [
      "Hello User!\n",
      "Hello User!\n",
      "Hello User!\n",
      "Hello User!\n"
     ]
    }
   ],
   "source": [
    "def greet_user(): #function definition\n",
    "    print(\"Hello User!\")\n",
    "    \n",
    "# Function Call\n",
    "greet_user()\n",
    "greet_user()\n",
    "greet_user()\n",
    "greet_user()"
   ]
  },
  {
   "cell_type": "code",
   "execution_count": 11,
   "metadata": {},
   "outputs": [
    {
     "name": "stdout",
     "output_type": "stream",
     "text": [
      "enter your name: Nabiha\n",
      "hello Nabiha\n",
      "hello AHmad\n"
     ]
    }
   ],
   "source": [
    "name = input(\"enter your name: \")\n",
    "\n",
    "def greet_user(username): #parameter\n",
    "    print(\"hello \" + username)\n",
    "    \n",
    "    \n",
    "greet_user(name) # Argument\n",
    "greet_user(\"AHmad\")"
   ]
  },
  {
   "cell_type": "markdown",
   "metadata": {},
   "source": [
    "## Passing Arguments\n",
    "* Positional arguments\n",
    "* keyword arguments"
   ]
  },
  {
   "cell_type": "markdown",
   "metadata": {},
   "source": [
    "## Positional Arguments"
   ]
  },
  {
   "cell_type": "code",
   "execution_count": 16,
   "metadata": {},
   "outputs": [
    {
     "name": "stdout",
     "output_type": "stream",
     "text": [
      "\n",
      " I have a  Sheru\n",
      "My dog 's name is Sheru\n"
     ]
    }
   ],
   "source": [
    "def describe_pet(animal_type, pet_name):\n",
    "    \"\"\"Display information about pet\"\"\"\n",
    "    print(\"\\n I have a  \" + pet_name)\n",
    "    print(f\"My {animal_type} 's name is {pet_name}\")\n",
    "    \n",
    "\n",
    "describe_pet('dog', 'Sheru')\n",
    "#describe_pet('Sheru', 'dog') Position matters in positional arguments"
   ]
  },
  {
   "cell_type": "code",
   "execution_count": 18,
   "metadata": {},
   "outputs": [
    {
     "name": "stdout",
     "output_type": "stream",
     "text": [
      "Display information about pet\n",
      "Help on function describe_pet in module __main__:\n",
      "\n",
      "describe_pet(animal_type, pet_name)\n",
      "    Display information about pet\n",
      "\n"
     ]
    }
   ],
   "source": [
    "# __doc__\n",
    "print(describe_pet.__doc__)\n",
    "\n",
    "# help()\n",
    "help(describe_pet)"
   ]
  },
  {
   "cell_type": "code",
   "execution_count": 19,
   "metadata": {},
   "outputs": [
    {
     "name": "stdout",
     "output_type": "stream",
     "text": [
      "Help on built-in function print in module builtins:\n",
      "\n",
      "print(...)\n",
      "    print(value, ..., sep=' ', end='\\n', file=sys.stdout, flush=False)\n",
      "    \n",
      "    Prints the values to a stream, or to sys.stdout by default.\n",
      "    Optional keyword arguments:\n",
      "    file:  a file-like object (stream); defaults to the current sys.stdout.\n",
      "    sep:   string inserted between values, default a space.\n",
      "    end:   string appended after the last value, default a newline.\n",
      "    flush: whether to forcibly flush the stream.\n",
      "\n"
     ]
    }
   ],
   "source": [
    "help(print)"
   ]
  },
  {
   "cell_type": "code",
   "execution_count": 22,
   "metadata": {},
   "outputs": [
    {
     "name": "stdout",
     "output_type": "stream",
     "text": [
      "5\n"
     ]
    }
   ],
   "source": [
    "def add_numbers():\n",
    "    first_number = 2\n",
    "    second_number = 3\n",
    "    total = first_number + second_number\n",
    "    print(total)\n",
    "    \n",
    "    \n",
    "add_numbers()"
   ]
  },
  {
   "cell_type": "markdown",
   "metadata": {},
   "source": [
    "## Keyword Argument"
   ]
  },
  {
   "cell_type": "code",
   "execution_count": 24,
   "metadata": {},
   "outputs": [
    {
     "name": "stdout",
     "output_type": "stream",
     "text": [
      "\n",
      " I have a  Sheru\n",
      "My dog 's name is Sheru\n"
     ]
    }
   ],
   "source": [
    "def describe_pet(animal_type, pet_name):\n",
    "    \"\"\"Display information about pet\"\"\"\n",
    "    print(\"\\n I have a  \" + pet_name)\n",
    "    print(f\"My {animal_type} 's name is {pet_name}\")\n",
    "    \n",
    "    \n",
    "describe_pet(pet_name=\"Sheru\",animal_type=\"dog\")"
   ]
  },
  {
   "cell_type": "markdown",
   "metadata": {},
   "source": [
    "## Functions: Assigning a default value to a parameter"
   ]
  },
  {
   "cell_type": "code",
   "execution_count": 26,
   "metadata": {},
   "outputs": [
    {
     "name": "stdout",
     "output_type": "stream",
     "text": [
      "80.0\n",
      "1500.0\n"
     ]
    }
   ],
   "source": [
    "def calc_tax(sales_total, tax_rate=.04):\n",
    "    print(sales_total * tax_rate)\n",
    "    \n",
    "calc_tax(2000)\n",
    "calc_tax(3000, 0.5)"
   ]
  },
  {
   "cell_type": "markdown",
   "metadata": {},
   "source": [
    "## Functions: Mixing positional and keyword arguments"
   ]
  },
  {
   "cell_type": "code",
   "execution_count": 27,
   "metadata": {},
   "outputs": [
    {
     "name": "stdout",
     "output_type": "stream",
     "text": [
      "Hello User! , nabiha\n"
     ]
    }
   ],
   "source": [
    "def give_greeting(greeting, first_name):\n",
    "    \"\"\"This function greets the user\"\"\"\n",
    "    print(greeting + \", \" + first_name)\n",
    "    \n",
    "give_greeting(\"Hello User! \" ,first_name='nabiha')"
   ]
  },
  {
   "cell_type": "code",
   "execution_count": 3,
   "metadata": {},
   "outputs": [
    {
     "name": "stdout",
     "output_type": "stream",
     "text": [
      "Hello There! , Nabiha good person\n"
     ]
    }
   ],
   "source": [
    "def give_greeting(greeting, first_name,flattering_nickname=\" the wonder person\"):\n",
    "    print(greeting + \", \" + first_name + flattering_nickname)\n",
    "    \n",
    "\n",
    "give_greeting(\"Hello There! \",first_name=\"Nabiha\", flattering_nickname=\" good person\")"
   ]
  },
  {
   "cell_type": "code",
   "execution_count": 4,
   "metadata": {},
   "outputs": [],
   "source": [
    "users = {\n",
    "    #key : value\n",
    "    \"nabiha\" : {\n",
    "        # key : value\n",
    "        'first': 'nabiha',\n",
    "        'last': 'komal',\n",
    "        'location': 'layyah',\n",
    "    },\n",
    "    \"omara\" : {\n",
    "        'first': 'omara',\n",
    "        'last': 'sohail',\n",
    "        'location': 'lahore',\n",
    "        \n",
    "    },\n",
    "    \"ali\" : {\n",
    "        'first': 'ali',\n",
    "        'last': 'javaid',\n",
    "        'location': 'multan',\n",
    "        \n",
    "    }\n",
    "}"
   ]
  },
  {
   "cell_type": "code",
   "execution_count": 9,
   "metadata": {},
   "outputs": [
    {
     "name": "stdout",
     "output_type": "stream",
     "text": [
      "multan\n"
     ]
    }
   ],
   "source": [
    "def find_something(dictionary, inner_dict, target):\n",
    "    print(dictionary[inner_dict][target])\n",
    "    \n",
    "\n",
    "find_something(users, \"ali\",\"location\")"
   ]
  },
  {
   "cell_type": "markdown",
   "metadata": {},
   "source": [
    "## Functions: Dealing with an unknown number of arguments"
   ]
  },
  {
   "cell_type": "code",
   "execution_count": 10,
   "metadata": {},
   "outputs": [
    {
     "ename": "TypeError",
     "evalue": "find_something() takes 3 positional arguments but 4 were given",
     "output_type": "error",
     "traceback": [
      "\u001b[1;31m---------------------------------------------------------------------------\u001b[0m",
      "\u001b[1;31mTypeError\u001b[0m                                 Traceback (most recent call last)",
      "\u001b[1;32m<ipython-input-10-6c399e88e493>\u001b[0m in \u001b[0;36m<module>\u001b[1;34m\u001b[0m\n\u001b[0;32m      3\u001b[0m \u001b[1;33m\u001b[0m\u001b[0m\n\u001b[0;32m      4\u001b[0m \u001b[1;33m\u001b[0m\u001b[0m\n\u001b[1;32m----> 5\u001b[1;33m \u001b[0mfind_something\u001b[0m\u001b[1;33m(\u001b[0m\u001b[0musers\u001b[0m\u001b[1;33m,\u001b[0m \u001b[1;34m\"ali\"\u001b[0m\u001b[1;33m,\u001b[0m\u001b[1;34m\"location\"\u001b[0m\u001b[1;33m,\u001b[0m\u001b[1;34m\"city\"\u001b[0m\u001b[1;33m)\u001b[0m\u001b[1;33m\u001b[0m\u001b[1;33m\u001b[0m\u001b[0m\n\u001b[0m",
      "\u001b[1;31mTypeError\u001b[0m: find_something() takes 3 positional arguments but 4 were given"
     ]
    }
   ],
   "source": [
    "def find_something(dictionary, inner_dict, target):\n",
    "    print(dictionary[inner_dict][target])\n",
    "    \n",
    "\n",
    "find_something(users, \"ali\",\"location\",\"city\")"
   ]
  },
  {
   "cell_type": "code",
   "execution_count": 14,
   "metadata": {},
   "outputs": [
    {
     "name": "stdout",
     "output_type": "stream",
     "text": [
      "The winner was Haris Sohail\n",
      "The score was 180\n",
      "injury = none\n",
      "fitness = Good\n",
      "winning_rate = Excellent\n"
     ]
    }
   ],
   "source": [
    "def display_result(winner, score, **info_player):\n",
    "    \"\"\"Displays match winner and score\"\"\"\n",
    "    print(\"The winner was \" + winner)\n",
    "    print(\"The score was \" + score)\n",
    "    for key,value in info_player.items():\n",
    "        print(key + \" = \"+ value)\n",
    "    \n",
    "display_result(winner=\"Haris Sohail\", score=\"180\", injury=\"none\", fitness=\"Good\", winning_rate=\"Excellent\")"
   ]
  },
  {
   "cell_type": "markdown",
   "metadata": {},
   "source": [
    "## Functions: Passing information back from them\n"
   ]
  },
  {
   "cell_type": "code",
   "execution_count": 18,
   "metadata": {},
   "outputs": [
    {
     "name": "stdout",
     "output_type": "stream",
     "text": [
      "350.0\n",
      "350.0\n"
     ]
    }
   ],
   "source": [
    "def calc_tax(sales_total, tax_rate=.04):\n",
    "    \"\"\"Calculates and returns sales tax rate\"\"\"\n",
    "    total_tax = sales_total * tax_rate\n",
    "    return total_tax\n",
    "    \n",
    "    \n",
    "    \n",
    "total_sales_tax = calc_tax(700, 0.5)\n",
    "print(total_sales_tax)\n",
    "\n",
    "print(calc_tax(700, 0.5))"
   ]
  },
  {
   "cell_type": "code",
   "execution_count": 20,
   "metadata": {},
   "outputs": [
    {
     "data": {
      "text/plain": [
       "2"
      ]
     },
     "execution_count": 20,
     "metadata": {},
     "output_type": "execute_result"
    }
   ],
   "source": [
    "def addition(first, second):\n",
    "    return first + second\n",
    "\n",
    "def subtraction(first, second):\n",
    "    return first - second\n",
    "\n",
    "\n",
    "total = addition(2,4) + subtraction(2,6)\n",
    "total"
   ]
  },
  {
   "cell_type": "markdown",
   "metadata": {},
   "source": [
    "## Local Vs Global Variables"
   ]
  },
  {
   "cell_type": "code",
   "execution_count": 26,
   "metadata": {},
   "outputs": [
    {
     "name": "stdout",
     "output_type": "stream",
     "text": [
      "Assalamu Alaikum!  Nabiha\n",
      "Hi \n"
     ]
    }
   ],
   "source": [
    "def greetings(user):\n",
    "    greeting = \"Assalamu Alaikum! \" # local\n",
    "    print(greeting + \" \" + user)\n",
    "    \n",
    "    \n",
    "greet = \"Hi \" # global\n",
    "greetings(\"Nabiha\")\n",
    "print(greet)\n",
    "#print(greeting)\n"
   ]
  },
  {
   "cell_type": "markdown",
   "metadata": {},
   "source": [
    "## Functions within functions"
   ]
  },
  {
   "cell_type": "code",
   "execution_count": 31,
   "metadata": {},
   "outputs": [
    {
     "name": "stdout",
     "output_type": "stream",
     "text": [
      "Ahmad SALAM\n"
     ]
    }
   ],
   "source": [
    "def greetings(user):\n",
    "    greets = greet(\"salam\")\n",
    "    print(user + \" \" + greets) # function call\n",
    "    \n",
    "def greet(greeting):\n",
    "    return greeting.upper() \n",
    "\n",
    "greetings(\"Ahmad\")"
   ]
  },
  {
   "cell_type": "code",
   "execution_count": 34,
   "metadata": {},
   "outputs": [
    {
     "name": "stdout",
     "output_type": "stream",
     "text": [
      "Hi\n",
      "Hi\n"
     ]
    }
   ],
   "source": [
    "def say_something():\n",
    "    what_to_say = \"Hi\"\n",
    "    now_say_it(what_to_say)\n",
    "    \n",
    "    \n",
    "def now_say_it(display):\n",
    "    print(display)\n",
    "    \n",
    "\n",
    "    \n",
    "say_something()\n",
    "say_something()"
   ]
  },
  {
   "cell_type": "code",
   "execution_count": null,
   "metadata": {},
   "outputs": [],
   "source": []
  }
 ],
 "metadata": {
  "kernelspec": {
   "display_name": "Python 3",
   "language": "python",
   "name": "python3"
  },
  "language_info": {
   "codemirror_mode": {
    "name": "ipython",
    "version": 3
   },
   "file_extension": ".py",
   "mimetype": "text/x-python",
   "name": "python",
   "nbconvert_exporter": "python",
   "pygments_lexer": "ipython3",
   "version": "3.7.9"
  }
 },
 "nbformat": 4,
 "nbformat_minor": 2
}
