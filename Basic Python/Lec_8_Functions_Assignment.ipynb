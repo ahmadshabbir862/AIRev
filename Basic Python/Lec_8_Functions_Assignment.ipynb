{
 "cells": [
  {
   "cell_type": "markdown",
   "metadata": {},
   "source": [
    "# Assignment_Functions"
   ]
  },
  {
   "cell_type": "markdown",
   "metadata": {},
   "source": [
    "## Seeing the World: \n",
    "### Think of at least five places in the Pakistan you’d like to visit.\n",
    "1. Store the locations in a list. Make sure the list is not in alphabetical order.\n",
    "2. Print your list in its original order. Don’t worry about printing the list neatly, just print it as a raw Python list.\n",
    "3. Use sorted() to print your list in alphabetical order without modifying the actual list.\n",
    "4. Show that your list is still in its original order by printing it.\n",
    "5. Use sorted() to print your list in reverse alphabetical order without changing the order of the original list.\n",
    "6. Show that your list is still in its original order by printing it again.\n",
    "7. Use reverse() to change the order of your list. Print the list to show that its order has changed.\n",
    "8. Use reverse() to change the order of your list again. Print the list to show it’s back to its original order.\n",
    "9. Use sort() to change your list so it’s stored in alphabetical order. Print the list to show that its order has been changed.\n",
    "10. Use sort() to change your list so it’s stored in reverse alphabetical order.Print the list to show that its order has changed."
   ]
  },
  {
   "cell_type": "markdown",
   "metadata": {},
   "source": [
    "1:Store the locations in a list. Make sure the list is not in alphabetical order."
   ]
  },
  {
   "cell_type": "code",
   "execution_count": 4,
   "metadata": {},
   "outputs": [],
   "source": [
    "world = [\"Swat Valley\", \"Hunza Valley\", \"Hingol National Park\", \"Khunjerab Pass\",\n",
    "         \"Rakaposhi Base Camp\" ]"
   ]
  },
  {
   "cell_type": "markdown",
   "metadata": {},
   "source": [
    "2: Print your list in its original order. Don’t worry about printing the list neatly, just print it as a raw Python list. "
   ]
  },
  {
   "cell_type": "code",
   "execution_count": 3,
   "metadata": {},
   "outputs": [
    {
     "name": "stdout",
     "output_type": "stream",
     "text": [
      "['Swat Valley', 'Hunza Valley', 'Hingol National Park', 'Khunjerab Pass', 'Rakaposhi Base Camp']\n"
     ]
    }
   ],
   "source": [
    "print(world)"
   ]
  },
  {
   "cell_type": "markdown",
   "metadata": {},
   "source": [
    "3: Use sorted() to print your list in alphabetical order without modifying the actual list.\n"
   ]
  },
  {
   "cell_type": "code",
   "execution_count": 5,
   "metadata": {},
   "outputs": [
    {
     "name": "stdout",
     "output_type": "stream",
     "text": [
      "['Hingol National Park', 'Hunza Valley', 'Khunjerab Pass', 'Rakaposhi Base Camp', 'Swat Valley']\n"
     ]
    }
   ],
   "source": [
    "print(sorted(world))"
   ]
  },
  {
   "cell_type": "markdown",
   "metadata": {},
   "source": [
    "4:Show that your list is still in its original order by printing it."
   ]
  },
  {
   "cell_type": "code",
   "execution_count": 6,
   "metadata": {},
   "outputs": [
    {
     "name": "stdout",
     "output_type": "stream",
     "text": [
      "['Swat Valley', 'Hunza Valley', 'Hingol National Park', 'Khunjerab Pass', 'Rakaposhi Base Camp']\n"
     ]
    }
   ],
   "source": [
    "print(world)"
   ]
  },
  {
   "cell_type": "markdown",
   "metadata": {},
   "source": [
    "5: Use sorted() to print your list in reverse alphabetical order without changing the order of the original list."
   ]
  },
  {
   "cell_type": "code",
   "execution_count": 5,
   "metadata": {},
   "outputs": [
    {
     "name": "stdout",
     "output_type": "stream",
     "text": [
      "['Swat Valley', 'Rakaposhi Base Camp', 'Khunjerab Pass', 'Hunza Valley', 'Hingol National Park']\n"
     ]
    }
   ],
   "source": [
    "print(sorted(world,key=None,reverse=True))"
   ]
  },
  {
   "cell_type": "markdown",
   "metadata": {},
   "source": [
    "6: Show that your list is still in its original order by printing it again."
   ]
  },
  {
   "cell_type": "code",
   "execution_count": 14,
   "metadata": {},
   "outputs": [
    {
     "name": "stdout",
     "output_type": "stream",
     "text": [
      "['Swat Valley', 'Hunza Valley', 'Hingol National Park', 'Khunjerab Pass', 'Rakaposhi Base Camp']\n"
     ]
    }
   ],
   "source": [
    "print(world)"
   ]
  },
  {
   "cell_type": "markdown",
   "metadata": {},
   "source": [
    "7: Use reverse() to change the order of your list. Print the list to show that its order has changed."
   ]
  },
  {
   "cell_type": "code",
   "execution_count": 7,
   "metadata": {},
   "outputs": [
    {
     "name": "stdout",
     "output_type": "stream",
     "text": [
      "['Rakaposhi Base Camp', 'Khunjerab Pass', 'Hingol National Park', 'Hunza Valley', 'Swat Valley']\n"
     ]
    }
   ],
   "source": [
    "world2 = [\"Swat Valley\", \"Hunza Valley\", \"Hingol National Park\", \"Khunjerab Pass\",\n",
    "         \"Rakaposhi Base Camp\" ]\n",
    "world2.reverse()\n",
    "print(world2)"
   ]
  },
  {
   "cell_type": "markdown",
   "metadata": {},
   "source": [
    "8: Use reverse() to change the order of your list again. Print the list to show it’s back to its original order."
   ]
  },
  {
   "cell_type": "code",
   "execution_count": 35,
   "metadata": {},
   "outputs": [
    {
     "name": "stdout",
     "output_type": "stream",
     "text": [
      "['Swat Valley', 'Hunza Valley', 'Hingol National Park', 'Khunjerab Pass', 'Rakaposhi Base Camp']\n"
     ]
    }
   ],
   "source": [
    "world2.reverse()\n",
    "print(world2)"
   ]
  },
  {
   "cell_type": "markdown",
   "metadata": {},
   "source": [
    "9: Use sort() to change your list so it’s stored in alphabetical order. Print the list to show that its order has been changed."
   ]
  },
  {
   "cell_type": "code",
   "execution_count": 39,
   "metadata": {},
   "outputs": [
    {
     "name": "stdout",
     "output_type": "stream",
     "text": [
      "['Hingol National Park', 'Hunza Valley', 'Khunjerab Pass', 'Rakaposhi Base Camp', 'Swat Valley']\n"
     ]
    }
   ],
   "source": [
    "world.sort()\n",
    "print(world)"
   ]
  },
  {
   "cell_type": "markdown",
   "metadata": {},
   "source": [
    "10: Use sort() to change your list so it’s stored in reverse alphabetical order.Print the list to show that its order has changed."
   ]
  },
  {
   "cell_type": "code",
   "execution_count": 44,
   "metadata": {},
   "outputs": [
    {
     "name": "stdout",
     "output_type": "stream",
     "text": [
      "['Swat Valley', 'Rakaposhi Base Camp', 'Khunjerab Pass', 'Hunza Valley', 'Hingol National Park']\n"
     ]
    }
   ],
   "source": [
    "world.sort(reverse=True)\n",
    "print(world)"
   ]
  },
  {
   "cell_type": "markdown",
   "metadata": {},
   "source": [
    "## Pizzas: \n",
    "\n",
    "1. Think of at least three kinds of your favorite pizza. Store these pizza names in a list, and then use a for loop to print the name of each pizza.\n",
    "\n",
    "2.  Modify your for loop to print a sentence using the name of the pizza instead of printing just the name of the pizza. For each pizza you should have one line of output containing a simple statement like I like pepperoni pizza.\n"
   ]
  },
  {
   "cell_type": "code",
   "execution_count": 46,
   "metadata": {},
   "outputs": [
    {
     "name": "stdout",
     "output_type": "stream",
     "text": [
      "tikka pizza\n",
      "fajita pizza\n",
      "Bihari pizza\n"
     ]
    }
   ],
   "source": [
    "pizza = [\"tikka pizza\", \"fajita pizza\", \"Bihari pizza\"]\n",
    "for name in pizza:\n",
    "    print(name,end='\\n')"
   ]
  },
  {
   "cell_type": "code",
   "execution_count": 49,
   "metadata": {},
   "outputs": [
    {
     "name": "stdout",
     "output_type": "stream",
     "text": [
      "I like tikka pizza, it has unique flavour\n",
      "I like fajita pizza, it has unique flavour\n",
      "I like Bihari pizza, it has unique flavour\n"
     ]
    }
   ],
   "source": [
    "for name in pizza:\n",
    "    print(f\"I like {name}, it has unique flavour\",end='\\n')"
   ]
  },
  {
   "cell_type": "markdown",
   "metadata": {},
   "source": [
    "## Animals: \n",
    "1. Think of at least three different animals that have a common characteristic. Store the names of these animals in a list, and then use a for loop to print out the name of each animal.\n",
    "2. Modify your program to print a statement about each animal, such as A dog would make a great pet.\n"
   ]
  },
  {
   "cell_type": "code",
   "execution_count": 9,
   "metadata": {},
   "outputs": [
    {
     "name": "stdout",
     "output_type": "stream",
     "text": [
      "Cheeta\n",
      "Tiger\n",
      "Lion\n"
     ]
    }
   ],
   "source": [
    "listA = [\"Cheeta\", \"Tiger\", \"Lion\"]\n",
    "for name in listA:\n",
    "    print(name)"
   ]
  },
  {
   "cell_type": "code",
   "execution_count": 11,
   "metadata": {},
   "outputs": [
    {
     "name": "stdout",
     "output_type": "stream",
     "text": [
      "['Cheeta', 'Tiger', 'Lion']\n",
      "Enter name of your favourite animal from above list to get information about itHawk\n",
      "Animal is not present in list\n"
     ]
    }
   ],
   "source": [
    "print(listA)\n",
    "animal_name = input(\"Enter name of your favourite animal from above list to get information about it\")\n",
    "\n",
    "for name in listA:\n",
    "    if name == animal_name and animal_name in listA:\n",
    "        if name == \"Cheeta\":\n",
    "            print(f\" The {name} runs very fast and hunts down it's prey\")\n",
    "            break\n",
    "        elif name == \"Tiger\":\n",
    "            print(f\"The {name} is the largest living cat species \")\n",
    "            break\n",
    "        elif name == \"Lion\":\n",
    "            print(f\"African  {name} have been admired throughout history for as symbols of courage and strength\")\n",
    "            break\n",
    "    elif animal_name not in listA:\n",
    "        print(\"Animal is not present in list\")\n",
    "        break\n",
    "\n",
    "    \n",
    "    "
   ]
  },
  {
   "cell_type": "markdown",
   "metadata": {},
   "source": [
    "## Rivers\n",
    "1. Make a dictionary that consist of five major rivers and their country or province\n",
    "2. Use a loop to print all values (.items)\n",
    "3. Use loop to print name of rivers  (.keys)\n",
    "4. Use loop to print just their country or province (.values)"
   ]
  },
  {
   "cell_type": "code",
   "execution_count": 90,
   "metadata": {},
   "outputs": [
    {
     "name": "stdout",
     "output_type": "stream",
     "text": [
      "{'Nile': 'Africa', 'Chang Jiang': 'China', 'Irtish': 'Russia', 'Indus': 'Pakistan', 'Ganges': 'India'}\n"
     ]
    }
   ],
   "source": [
    "dict = {\"Nile\":\"Africa\", \"Chang Jiang\":\"China\", \"Irtish\":\"Russia\", \"Indus\":\"Pakistan\",\"Ganges\":\"India\" }\n",
    "print(dict)"
   ]
  },
  {
   "cell_type": "code",
   "execution_count": 92,
   "metadata": {},
   "outputs": [
    {
     "name": "stdout",
     "output_type": "stream",
     "text": [
      "The River Nile is in Africa country\n",
      "The River Chang Jiang is in China country\n",
      "The River Irtish is in Russia country\n",
      "The River Indus is in Pakistan country\n",
      "The River Ganges is in India country\n"
     ]
    }
   ],
   "source": [
    "for name,country in dict.items():\n",
    "    print(f\"The River {name.title()} is in {country.title()} country\")"
   ]
  },
  {
   "cell_type": "code",
   "execution_count": 93,
   "metadata": {},
   "outputs": [
    {
     "name": "stdout",
     "output_type": "stream",
     "text": [
      "Nile\n",
      "Chang Jiang\n",
      "Irtish\n",
      "Indus\n",
      "Ganges\n"
     ]
    }
   ],
   "source": [
    "for name in dict.keys():\n",
    "    print(name.title())"
   ]
  },
  {
   "cell_type": "code",
   "execution_count": 94,
   "metadata": {},
   "outputs": [
    {
     "name": "stdout",
     "output_type": "stream",
     "text": [
      "Africa\n",
      "China\n",
      "Russia\n",
      "Pakistan\n",
      "India\n"
     ]
    }
   ],
   "source": [
    "for name in dict.values():\n",
    "    print(name.title())"
   ]
  },
  {
   "cell_type": "code",
   "execution_count": null,
   "metadata": {},
   "outputs": [],
   "source": []
  }
 ],
 "metadata": {
  "kernelspec": {
   "display_name": "Python 3",
   "language": "python",
   "name": "python3"
  },
  "language_info": {
   "codemirror_mode": {
    "name": "ipython",
    "version": 3
   },
   "file_extension": ".py",
   "mimetype": "text/x-python",
   "name": "python",
   "nbconvert_exporter": "python",
   "pygments_lexer": "ipython3",
   "version": "3.7.9"
  }
 },
 "nbformat": 4,
 "nbformat_minor": 2
}
