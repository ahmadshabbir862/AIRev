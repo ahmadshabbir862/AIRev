{
 "cells": [
  {
   "cell_type": "markdown",
   "metadata": {},
   "source": [
    "## Practice Classes"
   ]
  },
  {
   "cell_type": "markdown",
   "metadata": {},
   "source": [
    "# Practice Example # 1"
   ]
  },
  {
   "cell_type": "markdown",
   "metadata": {},
   "source": [
    " # User:\n",
    "* Make a class called User. Create two attributes called first_name and last_name, and then create several other attributes that are typically stored in a user profile. \n",
    "\n",
    "* Make a method called describe_user() that prints a summary of the user’s information. \n",
    "\n",
    "* Make another method called greet_user() that prints a personalized greeting to the user.\n",
    "\n",
    "* Create several instances representing different users, and call both methods for each user."
   ]
  },
  {
   "cell_type": "code",
   "execution_count": 2,
   "metadata": {},
   "outputs": [
    {
     "name": "stdout",
     "output_type": "stream",
     "text": [
      "\n",
      "Hi Nabiha Welcome!\n",
      "\n",
      "User Description: \n",
      "Name: Nabiha Komal\n",
      "Father Name: Javaid\n",
      "Class: Mphil\n",
      "Favourite Subject: Python\n",
      "Nabiha Komal\n",
      "Nabiha Komal\n",
      "\n",
      "Hi shahbaz Welcome!\n",
      "\n",
      "User Description: \n",
      "Name: Shahbaz Ali\n",
      "Father Name: Kareem Baksh\n",
      "Class: BS.CS\n",
      "Favourite Subject: Java\n"
     ]
    }
   ],
   "source": [
    "class User():\n",
    "    def __init__(self,first,last,f_name,Class,fav_subject):\n",
    "        self.first = first\n",
    "        self.last = last\n",
    "        self.f_name = f_name\n",
    "        self.Class = Class\n",
    "        self.fav_subject = fav_subject\n",
    "        \n",
    "    def fullname(self):\n",
    "        return '{} {}'.format(self.first, self.last)\n",
    "        \n",
    "    def describe_user(self):\n",
    "        full_name = self.first + \" \" + self.last\n",
    "        print(\"\\nUser Description: \")\n",
    "        print(\"Name: \"+ full_name.title())\n",
    "        print(\"Father Name: \"+self.f_name.title())\n",
    "        print(\"Class: \"+self.Class)\n",
    "        print(\"Favourite Subject: \"+self.fav_subject)\n",
    "    \n",
    "    def greet_user(self):\n",
    "        print('\\nHi '+ self.first + ' Welcome!')\n",
    "\n",
    "user_info = User('Nabiha','Komal','Javaid','Mphil','Python')\n",
    "user_info.greet_user()\n",
    "user_info.describe_user()\n",
    "print(user_info.fullname())\n",
    "print('{} {}'.format(user_info.first, user_info.last))\n",
    "\n",
    "user_1 = User('shahbaz','ali','kareem baksh','BS.CS', 'Java')\n",
    "user_1.greet_user()\n",
    "user_1.describe_user()"
   ]
  },
  {
   "cell_type": "markdown",
   "metadata": {},
   "source": [
    "## Login Attempts: \n",
    "* Add an attribute called login_attempts to your User\n",
    "\n",
    "* class from Practice Example 1. Write a method called increment_ login_attempts() that increments the value of login_attempts by 1. Write another method called reset_login_attempts() that resets the value of login_attempts to 0.\n",
    "\n",
    "* Make an instance of the User class and call increment_login_attempts() several times. Print the value of login_attempts to make sure it was incremented properly, and then call reset_login_attempts(). Print login_attempts again to make sure it was reset to 0."
   ]
  },
  {
   "cell_type": "code",
   "execution_count": 9,
   "metadata": {},
   "outputs": [
    {
     "name": "stdout",
     "output_type": "stream",
     "text": [
      "0\n",
      "4\n",
      "0\n"
     ]
    }
   ],
   "source": [
    "class User():\n",
    "    def __init__(self,first,last,f_name,Class,fav_subject):\n",
    "        self.first = first\n",
    "        self.last = last\n",
    "        self.f_name = f_name\n",
    "        self.Class = Class\n",
    "        self.fav_subject = fav_subject\n",
    "        self.login_attempts = 0\n",
    "        \n",
    "    def describe_user(self):\n",
    "        full_name = self.first + \" \" + self.last\n",
    "        print(\"\\nUser Description: \")\n",
    "        print(\"Name: \"+ full_name.title())\n",
    "        print(\"Father Name: \"+self.f_name.title())\n",
    "        print(\"Class: \"+self.Class)\n",
    "        print(\"Favourite Subject: \"+self.fav_subject)\n",
    "    \n",
    "    def greet_user(self):\n",
    "        print('\\nHi '+ self.first.title() + ' Welcome!')\n",
    "        \n",
    "    def increment_login_attempts(self):\n",
    "        self.login_attempts += 1\n",
    "    \n",
    "    def reset_login_attempts(self):\n",
    "        self.login_attempts = 0\n",
    "\n",
    "user_info = User('Nabiha','Komal','Javaid','Mphil','Python')\n",
    "print(user_info.login_attempts)\n",
    "user_info.increment_login_attempts()\n",
    "user_info.increment_login_attempts()\n",
    "user_info.increment_login_attempts()\n",
    "user_info.increment_login_attempts()\n",
    "print(user_info.login_attempts)\n",
    "user_info.reset_login_attempts()\n",
    "print(user_info.login_attempts)"
   ]
  },
  {
   "cell_type": "markdown",
   "metadata": {},
   "source": [
    "# Practice Example # 2\n"
   ]
  },
  {
   "cell_type": "markdown",
   "metadata": {},
   "source": [
    "# Restaurant:\n",
    "* Make a class called Restaurant. \n",
    "\n",
    "* The __init__() method for Restaurant should store two attributes: a restaurant_name and a cuisine_type.\n",
    "\n",
    "* Make a method called describe_restaurant() that prints these two pieces of information, and a method called open_restaurant() that prints a message indicating that the restaurant is open.\n",
    "\n",
    "* Make an instance called restaurant from your class. Print the two attributes individually, and then call both methods.\n"
   ]
  },
  {
   "cell_type": "code",
   "execution_count": 2,
   "metadata": {},
   "outputs": [
    {
     "name": "stdout",
     "output_type": "stream",
     "text": [
      "Resturant Shangrilla Crusine is open\n",
      "Resturant Name: Shangrilla Crusine\n",
      "Cuisine Type: Chinease Food\n"
     ]
    }
   ],
   "source": [
    "class Resturant():\n",
    "    \"\"\"Class Resturant describes about the resturant\"\"\"\n",
    "    def __init__(self,resturant_name,cuisine_type):\n",
    "        \"\"\"Init method takes resturant name and cuisine type as parameter\"\"\"\n",
    "        self.resturant_name = resturant_name\n",
    "        self.cuisine_type = cuisine_type\n",
    "    def describe_resturant(self):\n",
    "        \"Prints Resturant name and cuisine\"\n",
    "        print(\"Resturant Name: \"+self.resturant_name.title())\n",
    "        print(\"Cuisine Type: \" + self.cuisine_type.title())\n",
    "    def open_resturant(self):\n",
    "        \"\"\"Prints message that resturant is open\"\"\"\n",
    "        print(\"Resturant \"+ self.resturant_name.title()+\" is open\")\n",
    "        \n",
    "res = Resturant('shangrilla crusine','chinease food')\n",
    "res.open_resturant()\n",
    "res.describe_resturant()\n",
    "        "
   ]
  },
  {
   "cell_type": "markdown",
   "metadata": {},
   "source": [
    "## Number Served in Resturant: \n",
    "* Start with your program from *Practice Example 2.\n",
    "\n",
    "* Add an attribute called number_served with a default value of 0. Create an instance called restaurant from this class. Print the number of customers the restaurant has served, and then change this value and print it again.\n",
    "\n",
    "* Add a method called set_number_served() that lets you set the number of customers that have been served. Call this method with a new number and print the value again.\n",
    "\n",
    "* Add a method called increment_number_served() that lets you increment the number of customers who’ve been served. Call this method with any number you like that could represent how many customers were served in, say, a day of business."
   ]
  },
  {
   "cell_type": "code",
   "execution_count": 5,
   "metadata": {},
   "outputs": [
    {
     "name": "stdout",
     "output_type": "stream",
     "text": [
      "0\n",
      "15\n",
      "16\n"
     ]
    }
   ],
   "source": [
    "class Resturant():\n",
    "    \"\"\"Class Resturant describes about the resturant\"\"\"\n",
    "    def __init__(self,resturant_name,cuisine_type):\n",
    "        \"\"\"Init method takes resturant name and cuisine type as parameter\"\"\"\n",
    "        self.resturant_name = resturant_name\n",
    "        self.cuisine_type = cuisine_type\n",
    "        self.number_served = 0\n",
    "    def describe_resturant(self):\n",
    "        \"Prints Resturant name and cuisine\"\n",
    "        print(\"Resturant Name: \"+self.resturant_name.title())\n",
    "        print(\"Cuisine Type: \" + self.cuisine_type.title())\n",
    "    def open_resturant(self):\n",
    "        \"\"\"Prints message that resturant is open\"\"\"\n",
    "        print(\"Resturant \"+ self.resturant_name.title()+\" is open\")\n",
    "    def set_number_served(self,number_served):\n",
    "        \"\"\"Sets number of Customer Served\"\"\"\n",
    "        self.number_served = number_served\n",
    "    def increment_number_served(self):\n",
    "        self.number_served += 1\n",
    "        \n",
    "resturant = Resturant('Hungry Cafe','Fast Food')\n",
    "print(resturant.number_served)\n",
    "resturant.set_number_served(15)\n",
    "print(resturant.number_served)\n",
    "resturant.increment_number_served()\n",
    "print(resturant.number_served)\n"
   ]
  },
  {
   "cell_type": "code",
   "execution_count": null,
   "metadata": {},
   "outputs": [],
   "source": []
  }
 ],
 "metadata": {
  "kernelspec": {
   "display_name": "Python 3",
   "language": "python",
   "name": "python3"
  },
  "language_info": {
   "codemirror_mode": {
    "name": "ipython",
    "version": 3
   },
   "file_extension": ".py",
   "mimetype": "text/x-python",
   "name": "python",
   "nbconvert_exporter": "python",
   "pygments_lexer": "ipython3",
   "version": "3.7.9"
  }
 },
 "nbformat": 4,
 "nbformat_minor": 2
}
