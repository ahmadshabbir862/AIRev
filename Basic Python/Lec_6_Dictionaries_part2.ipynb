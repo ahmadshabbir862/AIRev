{
 "cells": [
  {
   "cell_type": "markdown",
   "metadata": {},
   "source": [
    "## Looping through dictionary keys in order"
   ]
  },
  {
   "cell_type": "code",
   "execution_count": 3,
   "metadata": {},
   "outputs": [
    {
     "data": {
      "text/plain": [
       "{'nabiha komal': 'java',\n",
       " 'zain': 'cpp',\n",
       " 'ahmad': 'python',\n",
       " 'ali': 'visual basic'}"
      ]
     },
     "execution_count": 3,
     "metadata": {},
     "output_type": "execute_result"
    }
   ],
   "source": [
    "myDict = {\n",
    "    'nabiha komal': 'java',  #0\n",
    "    'zain': 'cpp',           #1\n",
    "    'ahmad': 'python',       #2\n",
    "    'ali':'visual basic'     #3\n",
    "}\n",
    "len(myDict)\n",
    "myDict"
   ]
  },
  {
   "cell_type": "code",
   "execution_count": 6,
   "metadata": {},
   "outputs": [
    {
     "data": {
      "text/plain": [
       "{'nabiha komal': 'java',\n",
       " 'zain': 'cpp',\n",
       " 'ahmad': 'python',\n",
       " 'ali': 'visual basic',\n",
       " 'haseeb': 'javascript'}"
      ]
     },
     "execution_count": 6,
     "metadata": {},
     "output_type": "execute_result"
    }
   ],
   "source": [
    "myDict['haseeb'] = 'javascript'\n",
    "myDict"
   ]
  },
  {
   "cell_type": "code",
   "execution_count": 7,
   "metadata": {},
   "outputs": [
    {
     "name": "stdout",
     "output_type": "stream",
     "text": [
      "Ahmad\n",
      "Ali\n",
      "Haseeb\n",
      "Nabiha Komal\n",
      "Zain\n"
     ]
    }
   ],
   "source": [
    "for name in sorted(myDict.keys()):\n",
    "    print(name.title())"
   ]
  },
  {
   "cell_type": "markdown",
   "metadata": {},
   "source": [
    "## looping through all values in dictionary"
   ]
  },
  {
   "cell_type": "code",
   "execution_count": 8,
   "metadata": {},
   "outputs": [
    {
     "data": {
      "text/plain": [
       "{'nabiha komal': 'java',\n",
       " 'zain': 'cpp',\n",
       " 'ahmad': 'python',\n",
       " 'ali': 'visual basic',\n",
       " 'haseeb': 'javascript'}"
      ]
     },
     "execution_count": 8,
     "metadata": {},
     "output_type": "execute_result"
    }
   ],
   "source": [
    "myDict"
   ]
  },
  {
   "cell_type": "code",
   "execution_count": 10,
   "metadata": {},
   "outputs": [
    {
     "name": "stdout",
     "output_type": "stream",
     "text": [
      "Following languages has been mentioned in dictionary\n",
      "Java\n",
      "Cpp\n",
      "Python\n",
      "Visual Basic\n",
      "Javascript\n"
     ]
    }
   ],
   "source": [
    "print(\"Following languages has been mentioned in dictionary\")\n",
    "# for language in sorted(myDict.values()):\n",
    "#     print(language.title())\n",
    "\n",
    "for language in myDict.values():\n",
    "    print(language.title())"
   ]
  },
  {
   "cell_type": "markdown",
   "metadata": {},
   "source": [
    "## What can we store in a dictionary"
   ]
  },
  {
   "cell_type": "markdown",
   "metadata": {},
   "source": [
    "* list\n",
    "* tuple\n",
    "* classes , functions\n",
    "* set\n",
    "* dictionary"
   ]
  },
  {
   "cell_type": "markdown",
   "metadata": {},
   "source": [
    "## A List of dictionaries"
   ]
  },
  {
   "cell_type": "code",
   "execution_count": 13,
   "metadata": {},
   "outputs": [
    {
     "name": "stdout",
     "output_type": "stream",
     "text": [
      "{'color': 'green', 'points': 5}\n",
      "{'color': 'yellow', 'points': 15}\n",
      "{'color': 'red', 'points': 25}\n"
     ]
    }
   ],
   "source": [
    "# Dictionary\n",
    "alien_0 = {'color':'green', 'points':5}\n",
    "alien_1 = {'color':'yellow', 'points':15}\n",
    "alien_2 = {'color':'red', 'points':25}\n",
    "\n",
    "#List\n",
    "aliens = [alien_0, alien_1, alien_2]\n",
    "\n",
    "# alien = [{'color':'green', 'points':5},\n",
    "#          {'color':'green', 'points':12},\n",
    "#          {'color':'green', 'points':50}]\n",
    "\n",
    "#for loop\n",
    "for alien in aliens:\n",
    "    print(alien)"
   ]
  },
  {
   "cell_type": "code",
   "execution_count": 17,
   "metadata": {},
   "outputs": [
    {
     "name": "stdout",
     "output_type": "stream",
     "text": [
      "{'color': 'red', 'points': 10, 'speed': 'medium'}\n",
      "{'color': 'red', 'points': 10, 'speed': 'medium'}\n",
      "{'color': 'red', 'points': 10, 'speed': 'medium'}\n",
      "{'color': 'red', 'points': 10, 'speed': 'medium'}\n",
      "{'color': 'red', 'points': 10, 'speed': 'medium'}\n",
      "Total number of aliens:30\n"
     ]
    }
   ],
   "source": [
    "# empty list\n",
    "aliens = []\n",
    "\n",
    "# make 30 aliens\n",
    "for alien_number in range(30):\n",
    "    new_alien = {'color':'green', 'points':5, 'speed': 'low'}\n",
    "    aliens.append(new_alien)\n",
    "    \n",
    "# update alien values\n",
    "for alien in aliens[0:5]:\n",
    "    if alien['color'] == 'green':\n",
    "        alien['color'] = 'red'\n",
    "        alien['points'] = 10\n",
    "        alien['speed'] = 'medium'\n",
    "\n",
    "# for alien in aliens:\n",
    "#     print(alien)\n",
    "\n",
    "for alien in aliens[:5]:\n",
    "    print(alien)\n",
    "    \n",
    "print(\"Total number of aliens:\" + str(len(aliens)))"
   ]
  },
  {
   "cell_type": "markdown",
   "metadata": {},
   "source": [
    "## Dictionary of Lists"
   ]
  },
  {
   "cell_type": "code",
   "execution_count": 18,
   "metadata": {},
   "outputs": [
    {
     "name": "stdout",
     "output_type": "stream",
     "text": [
      "\n",
      "Nabiha Komal,s favorite languages are: \n",
      "\tPython\n",
      "\tJava\n",
      "\tCpp\n",
      "\n",
      "Adil Farooq,s favorite languages are: \n",
      "\tPython\n",
      "\tCpp\n",
      "\n",
      "Faraz Jamal,s favorite languages are: \n",
      "\tPython\n",
      "\tDjango\n",
      "\tTypescript\n"
     ]
    }
   ],
   "source": [
    "favorite_languages = {\n",
    "    'nabiha komal' : ['python', 'java', 'cpp'],\n",
    "    'Adil Farooq' : ['python', 'cpp'],\n",
    "    'faraz jamal' : ['python', 'django','typescript']\n",
    "}\n",
    "\n",
    "\n",
    "for name, languages in favorite_languages.items():\n",
    "    print('\\n' + name.title() + ',s favorite languages are: ')\n",
    "    for language in languages:\n",
    "        print('\\t' + language.title())"
   ]
  },
  {
   "cell_type": "markdown",
   "metadata": {},
   "source": [
    "# Dictionary in a Dictionary"
   ]
  },
  {
   "cell_type": "code",
   "execution_count": 1,
   "metadata": {},
   "outputs": [
    {
     "name": "stdout",
     "output_type": "stream",
     "text": [
      "{'nabiha': {'first': 'nabiha', 'last': 'komal', 'location': 'layyah'}, 'omara': {'first': 'omara', 'last': 'sohail', 'location': 'lahore'}, 'ali': {'first': 'ali', 'last': 'javaid', 'location': 'multan'}}\n"
     ]
    }
   ],
   "source": [
    "users = {\n",
    "    #key : value\n",
    "    \"nabiha\" : {\n",
    "        # key : value\n",
    "        'first': 'nabiha',\n",
    "        'last': 'komal',\n",
    "        'location': 'layyah',\n",
    "    },\n",
    "    \"omara\" : {\n",
    "        'first': 'omara',\n",
    "        'last': 'sohail',\n",
    "        'location': 'lahore',\n",
    "        \n",
    "    },\n",
    "    \"ali\" : {\n",
    "        'first': 'ali',\n",
    "        'last': 'javaid',\n",
    "        'location': 'multan',\n",
    "        \n",
    "    }\n",
    "}\n",
    "\n",
    "print(users)"
   ]
  },
  {
   "cell_type": "markdown",
   "metadata": {},
   "source": [
    "## How to get information out of a dictionary within another dictionary"
   ]
  },
  {
   "cell_type": "code",
   "execution_count": 2,
   "metadata": {},
   "outputs": [
    {
     "name": "stdout",
     "output_type": "stream",
     "text": [
      "lahore\n"
     ]
    }
   ],
   "source": [
    "print(users[\"omara\"][\"location\"])"
   ]
  },
  {
   "cell_type": "code",
   "execution_count": 5,
   "metadata": {},
   "outputs": [
    {
     "name": "stdout",
     "output_type": "stream",
     "text": [
      "\n",
      "User Name :nabiha\n",
      "\t Full Name: Nabiha Komal\n",
      "\t Location: layyah\n",
      "\n",
      "User Name :omara\n",
      "\t Full Name: Omara Sohail\n",
      "\t Location: lahore\n",
      "\n",
      "User Name :ali\n",
      "\t Full Name: Ali Javaid\n",
      "\t Location: multan\n"
     ]
    }
   ],
   "source": [
    "for username,user_info in users.items():\n",
    "    print(\"\\nUser Name :\" + username)\n",
    "    full_name = user_info['first'] + \" \" + user_info['last']\n",
    "    location = user_info['location']\n",
    "    \n",
    "    print(\"\\t Full Name: \" + full_name.title())\n",
    "    print(\"\\t Location: \" + location)"
   ]
  },
  {
   "cell_type": "code",
   "execution_count": null,
   "metadata": {},
   "outputs": [],
   "source": []
  }
 ],
 "metadata": {
  "kernelspec": {
   "display_name": "Python 3",
   "language": "python",
   "name": "python3"
  },
  "language_info": {
   "codemirror_mode": {
    "name": "ipython",
    "version": 3
   },
   "file_extension": ".py",
   "mimetype": "text/x-python",
   "name": "python",
   "nbconvert_exporter": "python",
   "pygments_lexer": "ipython3",
   "version": "3.7.9"
  }
 },
 "nbformat": 4,
 "nbformat_minor": 2
}
